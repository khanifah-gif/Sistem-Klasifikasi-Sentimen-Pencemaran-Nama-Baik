{
  "nbformat": 4,
  "nbformat_minor": 0,
  "metadata": {
    "colab": {
      "provenance": []
    },
    "kernelspec": {
      "name": "python3",
      "display_name": "Python 3"
    },
    "language_info": {
      "name": "python"
    }
  },
  "cells": [
    {
      "cell_type": "markdown",
      "source": [
        "#Business Understanding\n",
        "\n",
        "Dalam proses digitalisasi yang semakin kompleks, kasus pencemaran nama baik secara online semakin marak ditemukan. Kasus ini berdampak pada citra atau reputasi seseorang ataupun entitas. Selain itu, dari aspek psikologis pencemaran nama baik juga berdampak pada kesehatan mental, rasa percaya diri, dan kualitas hidup seseorang yang menjadi sasaran. Dari Aspek bisnis, pencemaran nama baik juga dapat merusak reputasi dan menurunkan kepercayaan pelanggan. Oleh karena itu, penelitian sistem klasifikasi sentimen untuk analisis pencemaran nama baik menjadi relevan untuk dilakukan dalam dunia digital yang terus berkembang."
      ],
      "metadata": {
        "id": "BHrABQH2Mw-Q"
      }
    },
    {
      "cell_type": "markdown",
      "source": [
        "#Data Understanding\n",
        "\n",
        "Data yang digunakan dalam project ini adalah data hasil crawling dari postingan di beberapa media sosial seperti instagram, twitter, dan kaskus yang mengandung pencemaran nama baik. Data ini dapat diakses melalui repositori github berikut: https://github.com/ahmadizzan/netifier/tree/master/data/raw . Dataset berisi 6995 baris yang mengandung 4 kategori kalimat toxic, yaitu pornografi, SARA, radikalisme, dan pencemaran nama baik. Namun, dalam project ini hanya mengambil data pada kolom 'original_text' dan 'pencemaran_nama_baik' sesuai dengan kebutuhan yang ada."
      ],
      "metadata": {
        "id": "VBtcUvOdPhYJ"
      }
    },
    {
      "cell_type": "markdown",
      "source": [
        "#Data Preparation"
      ],
      "metadata": {
        "id": "tWAeR_0MRSpO"
      }
    },
    {
      "cell_type": "markdown",
      "source": [
        "Import Library yang dibutuhkan"
      ],
      "metadata": {
        "id": "Pnya-I8WKJij"
      }
    },
    {
      "cell_type": "code",
      "execution_count": 1,
      "metadata": {
        "id": "lu9IKYfrJ0I6"
      },
      "outputs": [],
      "source": [
        "import pandas as pd\n",
        "import requests\n",
        "import io\n",
        "import matplotlib.pyplot as plt\n",
        "import seaborn as sns\n",
        "import numpy as np\n",
        "import re\n",
        "import itertools\n",
        "import nltk\n",
        "import pickle"
      ]
    },
    {
      "cell_type": "code",
      "source": [
        "url_train = 'https://raw.githubusercontent.com/ahmadizzan/netifier/master/data/raw/train.csv'\n",
        "response = requests.get(url_train)\n",
        "data_train = pd.read_csv(io.StringIO(response.text))\n",
        "data_train = data_train[[\"original_text\", \"pencemaran_nama_baik\"]]\n",
        "data_train.head()"
      ],
      "metadata": {
        "colab": {
          "base_uri": "https://localhost:8080/",
          "height": 206
        },
        "id": "kmX-Yi33LHUS",
        "outputId": "e27e381a-5d6f-4cca-ce07-0e6608bbc629"
      },
      "execution_count": 2,
      "outputs": [
        {
          "output_type": "execute_result",
          "data": {
            "text/plain": [
              "                                       original_text  pencemaran_nama_baik\n",
              "0  [QUOTE=jessepinkman16;5a50ac34d89b093f368b456e...                     1\n",
              "1  @verosvante kita2 aja nitizen yang pada kepo,t...                     0\n",
              "2  \"#SidangAhok smg sipenista agama n ateknya mat...                     1\n",
              "3  @bolususulembang.jkt barusan baca undang2 ini....                     0\n",
              "4  bikin anak mulu lu nof \\nkaga mikir apa kasian...                     0"
            ],
            "text/html": [
              "\n",
              "  <div id=\"df-9337bfa6-f317-4767-ae64-0304140cb8ca\" class=\"colab-df-container\">\n",
              "    <div>\n",
              "<style scoped>\n",
              "    .dataframe tbody tr th:only-of-type {\n",
              "        vertical-align: middle;\n",
              "    }\n",
              "\n",
              "    .dataframe tbody tr th {\n",
              "        vertical-align: top;\n",
              "    }\n",
              "\n",
              "    .dataframe thead th {\n",
              "        text-align: right;\n",
              "    }\n",
              "</style>\n",
              "<table border=\"1\" class=\"dataframe\">\n",
              "  <thead>\n",
              "    <tr style=\"text-align: right;\">\n",
              "      <th></th>\n",
              "      <th>original_text</th>\n",
              "      <th>pencemaran_nama_baik</th>\n",
              "    </tr>\n",
              "  </thead>\n",
              "  <tbody>\n",
              "    <tr>\n",
              "      <th>0</th>\n",
              "      <td>[QUOTE=jessepinkman16;5a50ac34d89b093f368b456e...</td>\n",
              "      <td>1</td>\n",
              "    </tr>\n",
              "    <tr>\n",
              "      <th>1</th>\n",
              "      <td>@verosvante kita2 aja nitizen yang pada kepo,t...</td>\n",
              "      <td>0</td>\n",
              "    </tr>\n",
              "    <tr>\n",
              "      <th>2</th>\n",
              "      <td>\"#SidangAhok smg sipenista agama n ateknya mat...</td>\n",
              "      <td>1</td>\n",
              "    </tr>\n",
              "    <tr>\n",
              "      <th>3</th>\n",
              "      <td>@bolususulembang.jkt barusan baca undang2 ini....</td>\n",
              "      <td>0</td>\n",
              "    </tr>\n",
              "    <tr>\n",
              "      <th>4</th>\n",
              "      <td>bikin anak mulu lu nof \\nkaga mikir apa kasian...</td>\n",
              "      <td>0</td>\n",
              "    </tr>\n",
              "  </tbody>\n",
              "</table>\n",
              "</div>\n",
              "    <div class=\"colab-df-buttons\">\n",
              "\n",
              "  <div class=\"colab-df-container\">\n",
              "    <button class=\"colab-df-convert\" onclick=\"convertToInteractive('df-9337bfa6-f317-4767-ae64-0304140cb8ca')\"\n",
              "            title=\"Convert this dataframe to an interactive table.\"\n",
              "            style=\"display:none;\">\n",
              "\n",
              "  <svg xmlns=\"http://www.w3.org/2000/svg\" height=\"24px\" viewBox=\"0 -960 960 960\">\n",
              "    <path d=\"M120-120v-720h720v720H120Zm60-500h600v-160H180v160Zm220 220h160v-160H400v160Zm0 220h160v-160H400v160ZM180-400h160v-160H180v160Zm440 0h160v-160H620v160ZM180-180h160v-160H180v160Zm440 0h160v-160H620v160Z\"/>\n",
              "  </svg>\n",
              "    </button>\n",
              "\n",
              "  <style>\n",
              "    .colab-df-container {\n",
              "      display:flex;\n",
              "      gap: 12px;\n",
              "    }\n",
              "\n",
              "    .colab-df-convert {\n",
              "      background-color: #E8F0FE;\n",
              "      border: none;\n",
              "      border-radius: 50%;\n",
              "      cursor: pointer;\n",
              "      display: none;\n",
              "      fill: #1967D2;\n",
              "      height: 32px;\n",
              "      padding: 0 0 0 0;\n",
              "      width: 32px;\n",
              "    }\n",
              "\n",
              "    .colab-df-convert:hover {\n",
              "      background-color: #E2EBFA;\n",
              "      box-shadow: 0px 1px 2px rgba(60, 64, 67, 0.3), 0px 1px 3px 1px rgba(60, 64, 67, 0.15);\n",
              "      fill: #174EA6;\n",
              "    }\n",
              "\n",
              "    .colab-df-buttons div {\n",
              "      margin-bottom: 4px;\n",
              "    }\n",
              "\n",
              "    [theme=dark] .colab-df-convert {\n",
              "      background-color: #3B4455;\n",
              "      fill: #D2E3FC;\n",
              "    }\n",
              "\n",
              "    [theme=dark] .colab-df-convert:hover {\n",
              "      background-color: #434B5C;\n",
              "      box-shadow: 0px 1px 3px 1px rgba(0, 0, 0, 0.15);\n",
              "      filter: drop-shadow(0px 1px 2px rgba(0, 0, 0, 0.3));\n",
              "      fill: #FFFFFF;\n",
              "    }\n",
              "  </style>\n",
              "\n",
              "    <script>\n",
              "      const buttonEl =\n",
              "        document.querySelector('#df-9337bfa6-f317-4767-ae64-0304140cb8ca button.colab-df-convert');\n",
              "      buttonEl.style.display =\n",
              "        google.colab.kernel.accessAllowed ? 'block' : 'none';\n",
              "\n",
              "      async function convertToInteractive(key) {\n",
              "        const element = document.querySelector('#df-9337bfa6-f317-4767-ae64-0304140cb8ca');\n",
              "        const dataTable =\n",
              "          await google.colab.kernel.invokeFunction('convertToInteractive',\n",
              "                                                    [key], {});\n",
              "        if (!dataTable) return;\n",
              "\n",
              "        const docLinkHtml = 'Like what you see? Visit the ' +\n",
              "          '<a target=\"_blank\" href=https://colab.research.google.com/notebooks/data_table.ipynb>data table notebook</a>'\n",
              "          + ' to learn more about interactive tables.';\n",
              "        element.innerHTML = '';\n",
              "        dataTable['output_type'] = 'display_data';\n",
              "        await google.colab.output.renderOutput(dataTable, element);\n",
              "        const docLink = document.createElement('div');\n",
              "        docLink.innerHTML = docLinkHtml;\n",
              "        element.appendChild(docLink);\n",
              "      }\n",
              "    </script>\n",
              "  </div>\n",
              "\n",
              "\n",
              "<div id=\"df-d15bc5ee-6a76-458f-89d9-45a6f06928e3\">\n",
              "  <button class=\"colab-df-quickchart\" onclick=\"quickchart('df-d15bc5ee-6a76-458f-89d9-45a6f06928e3')\"\n",
              "            title=\"Suggest charts.\"\n",
              "            style=\"display:none;\">\n",
              "\n",
              "<svg xmlns=\"http://www.w3.org/2000/svg\" height=\"24px\"viewBox=\"0 0 24 24\"\n",
              "     width=\"24px\">\n",
              "    <g>\n",
              "        <path d=\"M19 3H5c-1.1 0-2 .9-2 2v14c0 1.1.9 2 2 2h14c1.1 0 2-.9 2-2V5c0-1.1-.9-2-2-2zM9 17H7v-7h2v7zm4 0h-2V7h2v10zm4 0h-2v-4h2v4z\"/>\n",
              "    </g>\n",
              "</svg>\n",
              "  </button>\n",
              "\n",
              "<style>\n",
              "  .colab-df-quickchart {\n",
              "      --bg-color: #E8F0FE;\n",
              "      --fill-color: #1967D2;\n",
              "      --hover-bg-color: #E2EBFA;\n",
              "      --hover-fill-color: #174EA6;\n",
              "      --disabled-fill-color: #AAA;\n",
              "      --disabled-bg-color: #DDD;\n",
              "  }\n",
              "\n",
              "  [theme=dark] .colab-df-quickchart {\n",
              "      --bg-color: #3B4455;\n",
              "      --fill-color: #D2E3FC;\n",
              "      --hover-bg-color: #434B5C;\n",
              "      --hover-fill-color: #FFFFFF;\n",
              "      --disabled-bg-color: #3B4455;\n",
              "      --disabled-fill-color: #666;\n",
              "  }\n",
              "\n",
              "  .colab-df-quickchart {\n",
              "    background-color: var(--bg-color);\n",
              "    border: none;\n",
              "    border-radius: 50%;\n",
              "    cursor: pointer;\n",
              "    display: none;\n",
              "    fill: var(--fill-color);\n",
              "    height: 32px;\n",
              "    padding: 0;\n",
              "    width: 32px;\n",
              "  }\n",
              "\n",
              "  .colab-df-quickchart:hover {\n",
              "    background-color: var(--hover-bg-color);\n",
              "    box-shadow: 0 1px 2px rgba(60, 64, 67, 0.3), 0 1px 3px 1px rgba(60, 64, 67, 0.15);\n",
              "    fill: var(--button-hover-fill-color);\n",
              "  }\n",
              "\n",
              "  .colab-df-quickchart-complete:disabled,\n",
              "  .colab-df-quickchart-complete:disabled:hover {\n",
              "    background-color: var(--disabled-bg-color);\n",
              "    fill: var(--disabled-fill-color);\n",
              "    box-shadow: none;\n",
              "  }\n",
              "\n",
              "  .colab-df-spinner {\n",
              "    border: 2px solid var(--fill-color);\n",
              "    border-color: transparent;\n",
              "    border-bottom-color: var(--fill-color);\n",
              "    animation:\n",
              "      spin 1s steps(1) infinite;\n",
              "  }\n",
              "\n",
              "  @keyframes spin {\n",
              "    0% {\n",
              "      border-color: transparent;\n",
              "      border-bottom-color: var(--fill-color);\n",
              "      border-left-color: var(--fill-color);\n",
              "    }\n",
              "    20% {\n",
              "      border-color: transparent;\n",
              "      border-left-color: var(--fill-color);\n",
              "      border-top-color: var(--fill-color);\n",
              "    }\n",
              "    30% {\n",
              "      border-color: transparent;\n",
              "      border-left-color: var(--fill-color);\n",
              "      border-top-color: var(--fill-color);\n",
              "      border-right-color: var(--fill-color);\n",
              "    }\n",
              "    40% {\n",
              "      border-color: transparent;\n",
              "      border-right-color: var(--fill-color);\n",
              "      border-top-color: var(--fill-color);\n",
              "    }\n",
              "    60% {\n",
              "      border-color: transparent;\n",
              "      border-right-color: var(--fill-color);\n",
              "    }\n",
              "    80% {\n",
              "      border-color: transparent;\n",
              "      border-right-color: var(--fill-color);\n",
              "      border-bottom-color: var(--fill-color);\n",
              "    }\n",
              "    90% {\n",
              "      border-color: transparent;\n",
              "      border-bottom-color: var(--fill-color);\n",
              "    }\n",
              "  }\n",
              "</style>\n",
              "\n",
              "  <script>\n",
              "    async function quickchart(key) {\n",
              "      const quickchartButtonEl =\n",
              "        document.querySelector('#' + key + ' button');\n",
              "      quickchartButtonEl.disabled = true;  // To prevent multiple clicks.\n",
              "      quickchartButtonEl.classList.add('colab-df-spinner');\n",
              "      try {\n",
              "        const charts = await google.colab.kernel.invokeFunction(\n",
              "            'suggestCharts', [key], {});\n",
              "      } catch (error) {\n",
              "        console.error('Error during call to suggestCharts:', error);\n",
              "      }\n",
              "      quickchartButtonEl.classList.remove('colab-df-spinner');\n",
              "      quickchartButtonEl.classList.add('colab-df-quickchart-complete');\n",
              "    }\n",
              "    (() => {\n",
              "      let quickchartButtonEl =\n",
              "        document.querySelector('#df-d15bc5ee-6a76-458f-89d9-45a6f06928e3 button');\n",
              "      quickchartButtonEl.style.display =\n",
              "        google.colab.kernel.accessAllowed ? 'block' : 'none';\n",
              "    })();\n",
              "  </script>\n",
              "</div>\n",
              "    </div>\n",
              "  </div>\n"
            ]
          },
          "metadata": {},
          "execution_count": 2
        }
      ]
    },
    {
      "cell_type": "code",
      "source": [
        "data_train.shape"
      ],
      "metadata": {
        "colab": {
          "base_uri": "https://localhost:8080/"
        },
        "id": "fvFZFPlHRc_-",
        "outputId": "dc741904-e783-456f-de91-84d4ad41deac"
      },
      "execution_count": 3,
      "outputs": [
        {
          "output_type": "execute_result",
          "data": {
            "text/plain": [
              "(6995, 2)"
            ]
          },
          "metadata": {},
          "execution_count": 3
        }
      ]
    },
    {
      "cell_type": "code",
      "source": [
        "data_train.info()"
      ],
      "metadata": {
        "colab": {
          "base_uri": "https://localhost:8080/"
        },
        "id": "Is0dLWq6Rfw5",
        "outputId": "dd6881ba-ae8d-4bf7-f71f-ade95d451333"
      },
      "execution_count": 4,
      "outputs": [
        {
          "output_type": "stream",
          "name": "stdout",
          "text": [
            "<class 'pandas.core.frame.DataFrame'>\n",
            "RangeIndex: 6995 entries, 0 to 6994\n",
            "Data columns (total 2 columns):\n",
            " #   Column                Non-Null Count  Dtype \n",
            "---  ------                --------------  ----- \n",
            " 0   original_text         6995 non-null   object\n",
            " 1   pencemaran_nama_baik  6995 non-null   int64 \n",
            "dtypes: int64(1), object(1)\n",
            "memory usage: 109.4+ KB\n"
          ]
        }
      ]
    },
    {
      "cell_type": "code",
      "source": [
        "#Mengubah tipe data pada kolom target (pencemaran_nama_baik) menjadi kolom kategori agar dapat divisualisasikan distribusi kelasnya pada bar chat\n",
        "\n",
        "data_train['pencemaran_nama_baik'].astype('category')"
      ],
      "metadata": {
        "colab": {
          "base_uri": "https://localhost:8080/"
        },
        "id": "N4m9ZzKsRjT8",
        "outputId": "1880bb25-0160-4448-b67a-a2d0dd28cd0d"
      },
      "execution_count": 5,
      "outputs": [
        {
          "output_type": "execute_result",
          "data": {
            "text/plain": [
              "0       1\n",
              "1       0\n",
              "2       1\n",
              "3       0\n",
              "4       0\n",
              "       ..\n",
              "6990    0\n",
              "6991    0\n",
              "6992    0\n",
              "6993    1\n",
              "6994    1\n",
              "Name: pencemaran_nama_baik, Length: 6995, dtype: category\n",
              "Categories (2, int64): [0, 1]"
            ]
          },
          "metadata": {},
          "execution_count": 5
        }
      ]
    },
    {
      "cell_type": "code",
      "source": [
        "#Membuat visualisasi distribusi kelas pada kolom target untuk identifikasi apakah data terdapat imbalance kelas\n",
        "\n",
        "class_distribution = data_train['pencemaran_nama_baik'].value_counts()\n",
        "ax = sns.barplot(x=class_distribution.index, y=class_distribution.values, palette=[\"blue\", \"red\"])\n",
        "\n",
        "plt.xlabel('Kelas')\n",
        "plt.ylabel('Jumlah')\n",
        "plt.title('Distribusi kelas 0 dan 1')\n",
        "\n",
        "for p in ax.patches:\n",
        "    ax.annotate(f'{p.get_height() / len(data_train) * 100:.2f}%', (p.get_x() + p.get_width() / 2., p.get_height()), ha='center', va='center', fontsize=12, color='black', xytext=(0, 5), textcoords='offset points')\n",
        "\n",
        "plt.show"
      ],
      "metadata": {
        "colab": {
          "base_uri": "https://localhost:8080/",
          "height": 489
        },
        "id": "wSkui3PoR1Vx",
        "outputId": "a9c220ad-e1de-4629-b0c6-6f0173f2026a"
      },
      "execution_count": 6,
      "outputs": [
        {
          "output_type": "execute_result",
          "data": {
            "text/plain": [
              "<function matplotlib.pyplot.show(close=None, block=None)>"
            ]
          },
          "metadata": {},
          "execution_count": 6
        },
        {
          "output_type": "display_data",
          "data": {
            "text/plain": [
              "<Figure size 640x480 with 1 Axes>"
            ],
            "image/png": "[encoded data removed]"
          },
          "metadata": {}
        }
      ]
    },
    {
      "cell_type": "markdown",
      "source": [
        "Dari hasil visualisasi di atas, terdapat imbalance class dengan kelas 1 menjadi kelas minoritas. Agar kelas menjadi balance, maka dilakukan undersampling terhadap data mayoritas (kelas 0). Teknik undersampling ini dipilih dengan melihat perbandingan data minoritas terhadap keseluruhan data. Data minoritas memiliki prosentase sebesar 31.17% dengan jumlah absolutnya adalah 2180 data. Jumlah ini cukup digunakan dalam proses modelling untuk satu kelasnya. Oleh karena itu, data minoritas dilakukan undersampling agar memiliki jumlah yang sama dengan data minoritas ini. Sehingga, jumlah data yang ada sekarang menjadi 4360 baris data."
      ],
      "metadata": {
        "id": "JUYkjDa6SIKK"
      }
    },
    {
      "cell_type": "code",
      "source": [
        "# Hitung jumlah sampel dengan nilai 0 pada kolom 'pencemaran_nama_baik'\n",
        "class_distribution = data_train['pencemaran_nama_baik'].value_counts()\n",
        "\n",
        "# Tentukan berapa banyak sampel dengan nilai 0 yang ingin dipertahankan\n",
        "undersample_size = class_distribution[1]  # Jumlah sampel dengan nilai 1\n",
        "\n",
        "# Lakukan undersampling dengan memotong data yang bernilai 0\n",
        "majority_class = data_train[data_train['pencemaran_nama_baik'] == 0].sample(n=undersample_size, random_state=42)\n",
        "\n",
        "# Gabungkan kelas mayoritas yang sudah diundersample dengan kelas minoritas\n",
        "undersampled_data = pd.concat([majority_class, data_train[data_train['pencemaran_nama_baik'] == 1]])\n",
        "undersampled_data.shape"
      ],
      "metadata": {
        "colab": {
          "base_uri": "https://localhost:8080/"
        },
        "id": "xnbybqFiTM8-",
        "outputId": "9d1f0a4c-a885-4e3e-e560-cd37c847f77f"
      },
      "execution_count": 8,
      "outputs": [
        {
          "output_type": "execute_result",
          "data": {
            "text/plain": [
              "(4360, 2)"
            ]
          },
          "metadata": {},
          "execution_count": 8
        }
      ]
    },
    {
      "cell_type": "code",
      "source": [
        "#visualisasi distribusi kelas setelah dilakuakan undersampling\n",
        "\n",
        "class_distribution = undersampled_data['pencemaran_nama_baik'].value_counts()\n",
        "ax = sns.barplot(x=class_distribution.index, y=class_distribution.values, palette=[\"blue\", \"red\"])\n",
        "\n",
        "plt.xlabel('Kelas')\n",
        "plt.ylabel('Jumlah')\n",
        "plt.title('Distribusi kelas 0 dan 1 setelah undersampling')\n",
        "\n",
        "for p in ax.patches:\n",
        "    ax.annotate(f'{p.get_height() / len(undersampled_data) * 100:.2f}%', (p.get_x() + p.get_width() / 2., p.get_height()), ha='center', va='center', fontsize=12, color='black', xytext=(0, 5), textcoords='offset points')\n",
        "\n",
        "plt.show"
      ],
      "metadata": {
        "colab": {
          "base_uri": "https://localhost:8080/",
          "height": 489
        },
        "id": "Jd-P8dG5SHaA",
        "outputId": "21dc5169-c362-4aef-979d-084bbeea2b41"
      },
      "execution_count": 9,
      "outputs": [
        {
          "output_type": "execute_result",
          "data": {
            "text/plain": [
              "<function matplotlib.pyplot.show(close=None, block=None)>"
            ]
          },
          "metadata": {},
          "execution_count": 9
        },
        {
          "output_type": "display_data",
          "data": {
            "text/plain": [
              "<Figure size 640x480 with 1 Axes>"
            ],
            "image/png": "[encoded data removed]"
          },
          "metadata": {}
        }
      ]
    },
    {
      "cell_type": "code",
      "source": [
        "data_train = undersampled_data.copy()"
      ],
      "metadata": {
        "id": "rpPis0-BTnFu"
      },
      "execution_count": 10,
      "outputs": []
    },
    {
      "cell_type": "code",
      "source": [
        "for i in range(10):\n",
        "  print('>>>>> TEXT #{}'.format(i + 1))\n",
        "  print(data_train['original_text'].values[i])"
      ],
      "metadata": {
        "colab": {
          "base_uri": "https://localhost:8080/"
        },
        "id": "bGYQh65yTvcI",
        "outputId": "a50319e2-fd83-4fbf-fe12-0a66483626e7"
      },
      "execution_count": 11,
      "outputs": [
        {
          "output_type": "stream",
          "name": "stdout",
          "text": [
            ">>>>> TEXT #1\n",
            "walah enak banget dapat pengikut ig cepat di sini panelpediavip.com dan free.panel pedia.net (Hapus Spasi pada Link)\n",
            ">>>>> TEXT #2\n",
            "Saya kira umat Islam yg masih mahu kepada khilafah(empayar Islam/pemerintahan muslim) harus sedar gesaan itu tidak berpijak di bumi yg nyata\n",
            ">>>>> TEXT #3\n",
            "Sering Kalah.? Yuk Dari Pada Kalah Terus Boleh Untuk Mencoba Keberuntungannya Di Situs Kami SAHABATQQ Ya Bossku .. - Promo Bonus ROLLINGAN 0.3% ( 5 hari sekali )\n",
            "- Promo Bonus Refferal 15 %\n",
            "- Bonus Ekstra Refferal 5% ( 1 Bulan Sekali )\n",
            "\n",
            "Ayo Tunggu Apa lagi Guys.?? Segera Bergabung Bersama Kami Guys.\n",
            "Untuk info lebih jelas Silahkan hubungi CS kami Yang Online 24jam.!\n",
            "- Livechat : www,Mejasahabat,net\n",
            "- Pin BBM Android CS 1: SHBT99\n",
            "- Pin BBM Blackberry CS 2 : 2AE48042\n",
            "- Pin BBM Blackberry CS 3 : 2BD6A2E3\n",
            "- Whatsapp : +85581734021\n",
            "\n",
            "Buruan Daftar Sekarang Juga Ya... aku tunggu guyss..\n",
            "Untuk pendaftaran silahkan klik kolom daftar atau link di bawah ini boss \n",
            "http://Mejasahabat,net/Register.aspx?lang=id\n",
            ">>>>> TEXT #4\n",
            "yaa rudalnya tan...pling enk meluk km dri belkng smbil di sodok mecky kmnya..smbil ak remas tetek km yg semok\n",
            ">>>>> TEXT #5\n",
            "[QUOTE=1punchman;5b4ef626a09a39a1208b4572]Pihak oposisi malah menyalahkan pemerintah karena minta saham 51 persen.\\nGoblok bener oposisi... [/QUOTE]\\n\\n\\nelu yg ketipu sama Jokok, 51% sudah fix masuk jd aset Inalum? kapan kita kebagian devidennya yg konon triliunan itu..?  :wkwkwk :wkwkwk baru tanda tangan HoA aja udah dijadiin pencitraan buat pilpres, belum juga fix \n",
            "\n",
            ">>>>> TEXT #6\n",
            "[INFO LOMBA]\r\n",
            "Masih SMA? Mau berprestasi? Ayo ikutan lomba INTEL! Hadiahnya menarik dengan total hadiah 10jt + jalan-jalan di kota Malang. More info cek ig @intel_ieub\n",
            ">>>>> TEXT #7\n",
            "[quote=Tarakanalada;5a647f94529a451b438b4569]Mohon bantuannya mastah,\\nMau curhat tagihan nih,\\nAnd pasang baru di awal november, Ane ambil paket 10mbps, TV, Dan telepon. Utk telepon Ada gratis 300menit lokal sljj apa 100menit (ane Lupa)\\n\\nTagihan pertama, Ane bayar tgl 23 December sebesar Rp. 271.216 dgn rincian biaya indihome 117rb, biaya sewa STB 40rb, biaya tambahan 75rb. Itu biaya tambahan 75rb utk apa ya?\\n\\nTagihan kedua, ane belum bayar soalnya bingung dgn total tagihannya. Tagihan sebesar Rp. 380.297 dgn rincian, biaya indihome 277.500, biaya sewa 40rb, lokal sljj 9750, lokal 12.250, fitur 9rb. \\n\\nYang ane tanyakan :\\n1. kok biaya indihome tagihan bulan pertama dengan bulan kedua selisihnya beda jauh,\\n2. Itu biaya2 telepon kok ada tagihan ya?\\n3.Telat sehari sudah ada denda (16ribu), itu denda perhari apa denda per bulan ya?\\n4. Itu Ada biaya sewa STB, Klo STB beli sendiri, apa bisa, biar ga Ada biaya sewa?\\n5. Itu biaya sewa STB karena ada paket TV nya? Klo downgrade paket, jadi tanpa TV bisa gak? Apa nanti di tagihan bulan berikutnya masih Ada biaya sewa lagi? Sewa modem kah?\\n\\nMohon bantuannya. Terimakasih[/quote]\\nTagihan tambahan.. Tagihan siluman\\n\\n[quote=ejainjakarta;5a65e85edcd7702d2b8b4567]sempet minat si pakai pasnyet tapi liat agan ini main overwatch kaya gini, jadi ragu[/quote]\\n\\nMasih bagus ada ping nya.. Drpd Rto\\n\\n[quote=ejainjakarta;5a65e85edcd7702d2b8b4567]sempet minat si pakai pasnyet tapi liat agan ini main overwatch kaya gini, jadi ragu[/quote]\\n\\n[quote=ejainjakarta;5a65e8acdad770f1228b456d]udah ngga punya etika, ngga nyadar produk yang dijual lebih sampah[/quote]\\n\\nLebih sampah ping 2-3k apa RTO?\\n:wkwkwk:wkwkwk:wkwkwk:wkwkwk:wkwkwk\\n[quote=jenxin98;5a649962c1cb1773768b457c]Ini Indihomo penyakitnya rto nya kambuh lagi nih :mads pdahal kmaren g knp napa[/quote]\\n\\nTambahin..\\nCie yg lemparin bata.. 1 doang? Yg banyak dong.. Biar keren merah semua :wakaka:wakaka:wakaka:wakaka:wakaka:wakaka:wakaka:wkwkwk:wkwkwk\n",
            "\n",
            ">>>>> TEXT #8\n",
            "subannalloh, inilah bukti islam agama damai, karena bisa saja gereja itu dibakar atw diledakkan pake bom, pendetanya dipenggal dan umatnya digorok, yg wanita dijadikan budak sex, tapi oleh FPI gereja tersebut hanya diteriakin secara histeris dan di Traktir Tuak Bir sambil menanyakan Halo Apa kabar, Halo Pak Akbar Apa Kabar, sungguh isalm adalah agama damai, rahmat bagi semesta alam ya akhi :angel :peluk\\n[img]https://s.kaskus.id/images/2018/05/29/10214692_201805290455450820.jpg[/img]\n",
            "\n",
            ">>>>> TEXT #9\n",
            "Min, kalo perlu kue lebaran kabarin yak, nanti ane kirim ke prodeo, cieee yg lebaran di prodeo\n",
            ">>>>> TEXT #10\n",
            "@infobandung ~ sekaligus usir dari Bdg,sopir2 kafir itu,mereka sumber masalah,tukang mabuk di jalan,kriminal,bikin Bdg kotor, #InfoBandung\n"
          ]
        }
      ]
    },
    {
      "cell_type": "markdown",
      "source": [
        "#Highlight:\n",
        "\n",
        "1. karakter Tanda baca & emoji\n",
        "2. format kaskus\n",
        "3. Slang words\n",
        "4. URL\n",
        "5. uppercase & lowercase\n",
        "6. whitespace/spasi berlebihan"
      ],
      "metadata": {
        "id": "4GIP5IXZT7Xa"
      }
    },
    {
      "cell_type": "markdown",
      "source": [
        "#Preprocessing data berdasarkan explorasi data yang telah dilakukan agar menjadi data yang berkualitas untuk dilakukan modelling"
      ],
      "metadata": {
        "id": "kP-v4S16UGg6"
      }
    },
    {
      "cell_type": "markdown",
      "source": [
        "Menghapus mention username"
      ],
      "metadata": {
        "id": "_GlQFcqrUP1v"
      }
    },
    {
      "cell_type": "code",
      "source": [
        "#Membuat fungsi untuk Menghapus mention username\n",
        "def remove_pattern(input_txt, pattern):\n",
        "  r = re.findall(pattern, input_txt)\n",
        "  for i in r:\n",
        "    input_txt = re.sub(i, '', input_txt)\n",
        "  return input_txt"
      ],
      "metadata": {
        "id": "KkyHxSKLUMaT"
      },
      "execution_count": 12,
      "outputs": []
    },
    {
      "cell_type": "code",
      "source": [
        "#Menghapus @user\n",
        "data_train['original_text'] = np.vectorize(remove_pattern)(data_train['original_text'], \"@[\\w]*\")"
      ],
      "metadata": {
        "id": "A9ZlnAjcT4d_"
      },
      "execution_count": 13,
      "outputs": []
    },
    {
      "cell_type": "markdown",
      "source": [
        "Perlakukan terhadap emoji:\n",
        "\n",
        "1. Menghapus emoji\n",
        "2. translate karakter yang merepresentasikan emoji"
      ],
      "metadata": {
        "id": "wD9TXBp8UuyY"
      }
    },
    {
      "cell_type": "markdown",
      "source": [
        "1. Menghapus emoji"
      ],
      "metadata": {
        "id": "dhgdoimbU4Xe"
      }
    },
    {
      "cell_type": "code",
      "source": [
        "pip install demoji"
      ],
      "metadata": {
        "colab": {
          "base_uri": "https://localhost:8080/"
        },
        "id": "NU5Ak6eRU_m2",
        "outputId": "38ba6071-0496-4617-83f1-4c50da3071c2"
      },
      "execution_count": 14,
      "outputs": [
        {
          "output_type": "stream",
          "name": "stdout",
          "text": [
            "Collecting demoji\n",
            "  Downloading demoji-1.1.0-py3-none-any.whl (42 kB)\n",
            "\u001b[?25l     \u001b[90m━━━━━━━━━━━━━━━━━━━━━━━━━━━━━━━━━━━━━━━━\u001b[0m \u001b[32m0.0/42.9 kB\u001b[0m \u001b[31m?\u001b[0m eta \u001b[36m-:--:--\u001b[0m\r\u001b[2K     \u001b[90m━━━━━━━━━━━━━━━━━━━━━━━━━━━━━━━━━━━━━━━━\u001b[0m \u001b[32m42.9/42.9 kB\u001b[0m \u001b[31m1.2 MB/s\u001b[0m eta \u001b[36m0:00:00\u001b[0m\n",
            "\u001b[?25hInstalling collected packages: demoji\n",
            "Successfully installed demoji-1.1.0\n"
          ]
        }
      ]
    },
    {
      "cell_type": "code",
      "source": [
        "import demoji\n",
        "\n",
        "# Mengunduh konfigurasi emoji pertama kali\n",
        "demoji.download_codes()\n",
        "\n",
        "# Fungsi untuk menghapus emoji\n",
        "def remove_emoji(text):\n",
        "    return demoji.replace(text, '')\n",
        "\n",
        "# Menerapkan fungsi remove_emoji pada kolom 'original_text'\n",
        "data_train['original_text'] = data_train['original_text'].apply(remove_emoji)"
      ],
      "metadata": {
        "colab": {
          "base_uri": "https://localhost:8080/"
        },
        "id": "66FFIOzMVA6R",
        "outputId": "5a62a696-345c-41ae-ad4b-91966a3d8af8"
      },
      "execution_count": 15,
      "outputs": [
        {
          "output_type": "stream",
          "name": "stderr",
          "text": [
            "<ipython-input-15-d4247cc136d8>:4: FutureWarning: The demoji.download_codes attribute is deprecated and will be removed from demoji in a future version. It is an unused attribute as emoji codes are now distributed directly with the demoji package.\n",
            "  demoji.download_codes()\n"
          ]
        }
      ]
    },
    {
      "cell_type": "markdown",
      "source": [
        "2. Translate emoticon"
      ],
      "metadata": {
        "id": "ZpkahCqaVMXm"
      }
    },
    {
      "cell_type": "code",
      "source": [
        "# Translate emoticon\n",
        "url_emoticon_trans = 'https://raw.githubusercontent.com/ahmadizzan/netifier/master/data/external/emoticon.txt'\n",
        "response_emoticon = requests.get(url_emoticon_trans)\n",
        "\n",
        "emoticon_df = pd.read_csv(io.StringIO(response_emoticon.text), sep='\\t', header=None)\n",
        "emoticon_dict = dict(zip(emoticon_df[0], emoticon_df[1]))"
      ],
      "metadata": {
        "id": "3mrgrKA0VQ_Y"
      },
      "execution_count": 16,
      "outputs": []
    },
    {
      "cell_type": "code",
      "source": [
        "#Membuat fungsi untuk translate emoticon\n",
        "\n",
        "def translate_emoticon(t):\n",
        "    for w, v in emoticon_dict.items():\n",
        "        pattern = re.compile(re.escape(w))\n",
        "        match = re.search(pattern,t)\n",
        "        if match:\n",
        "            t = re.sub(pattern,v,t)\n",
        "    return t"
      ],
      "metadata": {
        "id": "nAI91qCXVWO3"
      },
      "execution_count": 17,
      "outputs": []
    },
    {
      "cell_type": "code",
      "source": [
        "#Translate emoticon\n",
        "\n",
        "data_train['original_text'] = data_train['original_text'].apply(translate_emoticon)"
      ],
      "metadata": {
        "id": "_NFD5FwgVaBC"
      },
      "execution_count": 18,
      "outputs": []
    },
    {
      "cell_type": "markdown",
      "source": [
        "Menghapus format bawaan dari Kaskus"
      ],
      "metadata": {
        "id": "WTTMqwwSVgmN"
      }
    },
    {
      "cell_type": "code",
      "source": [
        "#Membuat fungsi untuk menghapus format Kaskus\n",
        "def remove_kaskus_formatting(text):\n",
        "    text = re.sub('\\[', ' [', text)\n",
        "    text = re.sub('\\]', '] ', text)\n",
        "    text = re.sub('\\[quote[^ ]*\\].*?\\[\\/quote\\]', ' ', text)\n",
        "    text = re.sub('\\[[^ ]*\\]', ' ', text)\n",
        "    text = re.sub('&quot;', ' ', text)\n",
        "    return text"
      ],
      "metadata": {
        "id": "g18beyxSVnAw"
      },
      "execution_count": 19,
      "outputs": []
    },
    {
      "cell_type": "code",
      "source": [
        "#Menghapus format dari kaskus\n",
        "\n",
        "data_train['original_text'] = data_train['original_text'].apply(remove_kaskus_formatting)"
      ],
      "metadata": {
        "id": "QUICV8y1V1pb"
      },
      "execution_count": 20,
      "outputs": []
    },
    {
      "cell_type": "markdown",
      "source": [
        "Menghapus karakter khusus"
      ],
      "metadata": {
        "id": "LtRbhSk2VzTI"
      }
    },
    {
      "cell_type": "code",
      "source": [
        "#Membuat fungsi untuk menghapus karakter dan mengembalikan teksnya menjadi lowercase semua\n",
        "\n",
        "def clean_caracter(text):\n",
        "    text = re.sub(r'\\n', '', text)\n",
        "    text = ' '.join(re.sub(\"(@[A-Za-z0-9]+)|([^0-9A-Za-z \\t])|(\\w+:\\/\\/\\S+)\", \" \", text).split())\n",
        "    return text.lower()"
      ],
      "metadata": {
        "id": "lAiOPI8xWAs3"
      },
      "execution_count": 21,
      "outputs": []
    },
    {
      "cell_type": "code",
      "source": [
        "data_train['original_text'] = data_train['original_text'].apply(clean_caracter)"
      ],
      "metadata": {
        "id": "fSF3gYc2WLer"
      },
      "execution_count": 22,
      "outputs": []
    },
    {
      "cell_type": "markdown",
      "source": [
        "Menerjemahkan Slang Words agar dapat direpresentasikan sesuai kata sesungguhnya"
      ],
      "metadata": {
        "id": "eyBYJI54WRAI"
      }
    },
    {
      "cell_type": "code",
      "source": [
        "url_slang_words = 'https://raw.githubusercontent.com/ahmadizzan/netifier/master/data/external/slangword.csv'\n",
        "response_slang_words = requests.get(url_slang_words)\n",
        "slang_words = pd.read_csv(io.StringIO(response_slang_words.text))\n",
        "slang_dict = dict(zip(slang_words['original'],slang_words['translated']))\n",
        "\n",
        "slang_words.head()"
      ],
      "metadata": {
        "colab": {
          "base_uri": "https://localhost:8080/",
          "height": 206
        },
        "id": "MNDXr3JgWdda",
        "outputId": "b6855bad-b6cd-45b8-c9d1-069866d9af8c"
      },
      "execution_count": 23,
      "outputs": [
        {
          "output_type": "execute_result",
          "data": {
            "text/plain": [
              "  original translated\n",
              "0      7an     tujuan\n",
              "1        @         di\n",
              "2   ababil  abg labil\n",
              "3     abis      habis\n",
              "4      acc     accord"
            ],
            "text/html": [
              "\n",
              "  <div id=\"df-c5b6b546-e6fb-4ec7-820d-850bcc22b1e2\" class=\"colab-df-container\">\n",
              "    <div>\n",
              "<style scoped>\n",
              "    .dataframe tbody tr th:only-of-type {\n",
              "        vertical-align: middle;\n",
              "    }\n",
              "\n",
              "    .dataframe tbody tr th {\n",
              "        vertical-align: top;\n",
              "    }\n",
              "\n",
              "    .dataframe thead th {\n",
              "        text-align: right;\n",
              "    }\n",
              "</style>\n",
              "<table border=\"1\" class=\"dataframe\">\n",
              "  <thead>\n",
              "    <tr style=\"text-align: right;\">\n",
              "      <th></th>\n",
              "      <th>original</th>\n",
              "      <th>translated</th>\n",
              "    </tr>\n",
              "  </thead>\n",
              "  <tbody>\n",
              "    <tr>\n",
              "      <th>0</th>\n",
              "      <td>7an</td>\n",
              "      <td>tujuan</td>\n",
              "    </tr>\n",
              "    <tr>\n",
              "      <th>1</th>\n",
              "      <td>@</td>\n",
              "      <td>di</td>\n",
              "    </tr>\n",
              "    <tr>\n",
              "      <th>2</th>\n",
              "      <td>ababil</td>\n",
              "      <td>abg labil</td>\n",
              "    </tr>\n",
              "    <tr>\n",
              "      <th>3</th>\n",
              "      <td>abis</td>\n",
              "      <td>habis</td>\n",
              "    </tr>\n",
              "    <tr>\n",
              "      <th>4</th>\n",
              "      <td>acc</td>\n",
              "      <td>accord</td>\n",
              "    </tr>\n",
              "  </tbody>\n",
              "</table>\n",
              "</div>\n",
              "    <div class=\"colab-df-buttons\">\n",
              "\n",
              "  <div class=\"colab-df-container\">\n",
              "    <button class=\"colab-df-convert\" onclick=\"convertToInteractive('df-c5b6b546-e6fb-4ec7-820d-850bcc22b1e2')\"\n",
              "            title=\"Convert this dataframe to an interactive table.\"\n",
              "            style=\"display:none;\">\n",
              "\n",
              "  <svg xmlns=\"http://www.w3.org/2000/svg\" height=\"24px\" viewBox=\"0 -960 960 960\">\n",
              "    <path d=\"M120-120v-720h720v720H120Zm60-500h600v-160H180v160Zm220 220h160v-160H400v160Zm0 220h160v-160H400v160ZM180-400h160v-160H180v160Zm440 0h160v-160H620v160ZM180-180h160v-160H180v160Zm440 0h160v-160H620v160Z\"/>\n",
              "  </svg>\n",
              "    </button>\n",
              "\n",
              "  <style>\n",
              "    .colab-df-container {\n",
              "      display:flex;\n",
              "      gap: 12px;\n",
              "    }\n",
              "\n",
              "    .colab-df-convert {\n",
              "      background-color: #E8F0FE;\n",
              "      border: none;\n",
              "      border-radius: 50%;\n",
              "      cursor: pointer;\n",
              "      display: none;\n",
              "      fill: #1967D2;\n",
              "      height: 32px;\n",
              "      padding: 0 0 0 0;\n",
              "      width: 32px;\n",
              "    }\n",
              "\n",
              "    .colab-df-convert:hover {\n",
              "      background-color: #E2EBFA;\n",
              "      box-shadow: 0px 1px 2px rgba(60, 64, 67, 0.3), 0px 1px 3px 1px rgba(60, 64, 67, 0.15);\n",
              "      fill: #174EA6;\n",
              "    }\n",
              "\n",
              "    .colab-df-buttons div {\n",
              "      margin-bottom: 4px;\n",
              "    }\n",
              "\n",
              "    [theme=dark] .colab-df-convert {\n",
              "      background-color: #3B4455;\n",
              "      fill: #D2E3FC;\n",
              "    }\n",
              "\n",
              "    [theme=dark] .colab-df-convert:hover {\n",
              "      background-color: #434B5C;\n",
              "      box-shadow: 0px 1px 3px 1px rgba(0, 0, 0, 0.15);\n",
              "      filter: drop-shadow(0px 1px 2px rgba(0, 0, 0, 0.3));\n",
              "      fill: #FFFFFF;\n",
              "    }\n",
              "  </style>\n",
              "\n",
              "    <script>\n",
              "      const buttonEl =\n",
              "        document.querySelector('#df-c5b6b546-e6fb-4ec7-820d-850bcc22b1e2 button.colab-df-convert');\n",
              "      buttonEl.style.display =\n",
              "        google.colab.kernel.accessAllowed ? 'block' : 'none';\n",
              "\n",
              "      async function convertToInteractive(key) {\n",
              "        const element = document.querySelector('#df-c5b6b546-e6fb-4ec7-820d-850bcc22b1e2');\n",
              "        const dataTable =\n",
              "          await google.colab.kernel.invokeFunction('convertToInteractive',\n",
              "                                                    [key], {});\n",
              "        if (!dataTable) return;\n",
              "\n",
              "        const docLinkHtml = 'Like what you see? Visit the ' +\n",
              "          '<a target=\"_blank\" href=https://colab.research.google.com/notebooks/data_table.ipynb>data table notebook</a>'\n",
              "          + ' to learn more about interactive tables.';\n",
              "        element.innerHTML = '';\n",
              "        dataTable['output_type'] = 'display_data';\n",
              "        await google.colab.output.renderOutput(dataTable, element);\n",
              "        const docLink = document.createElement('div');\n",
              "        docLink.innerHTML = docLinkHtml;\n",
              "        element.appendChild(docLink);\n",
              "      }\n",
              "    </script>\n",
              "  </div>\n",
              "\n",
              "\n",
              "<div id=\"df-2ae42c6b-32a6-44f0-b014-baddbbe6f448\">\n",
              "  <button class=\"colab-df-quickchart\" onclick=\"quickchart('df-2ae42c6b-32a6-44f0-b014-baddbbe6f448')\"\n",
              "            title=\"Suggest charts.\"\n",
              "            style=\"display:none;\">\n",
              "\n",
              "<svg xmlns=\"http://www.w3.org/2000/svg\" height=\"24px\"viewBox=\"0 0 24 24\"\n",
              "     width=\"24px\">\n",
              "    <g>\n",
              "        <path d=\"M19 3H5c-1.1 0-2 .9-2 2v14c0 1.1.9 2 2 2h14c1.1 0 2-.9 2-2V5c0-1.1-.9-2-2-2zM9 17H7v-7h2v7zm4 0h-2V7h2v10zm4 0h-2v-4h2v4z\"/>\n",
              "    </g>\n",
              "</svg>\n",
              "  </button>\n",
              "\n",
              "<style>\n",
              "  .colab-df-quickchart {\n",
              "      --bg-color: #E8F0FE;\n",
              "      --fill-color: #1967D2;\n",
              "      --hover-bg-color: #E2EBFA;\n",
              "      --hover-fill-color: #174EA6;\n",
              "      --disabled-fill-color: #AAA;\n",
              "      --disabled-bg-color: #DDD;\n",
              "  }\n",
              "\n",
              "  [theme=dark] .colab-df-quickchart {\n",
              "      --bg-color: #3B4455;\n",
              "      --fill-color: #D2E3FC;\n",
              "      --hover-bg-color: #434B5C;\n",
              "      --hover-fill-color: #FFFFFF;\n",
              "      --disabled-bg-color: #3B4455;\n",
              "      --disabled-fill-color: #666;\n",
              "  }\n",
              "\n",
              "  .colab-df-quickchart {\n",
              "    background-color: var(--bg-color);\n",
              "    border: none;\n",
              "    border-radius: 50%;\n",
              "    cursor: pointer;\n",
              "    display: none;\n",
              "    fill: var(--fill-color);\n",
              "    height: 32px;\n",
              "    padding: 0;\n",
              "    width: 32px;\n",
              "  }\n",
              "\n",
              "  .colab-df-quickchart:hover {\n",
              "    background-color: var(--hover-bg-color);\n",
              "    box-shadow: 0 1px 2px rgba(60, 64, 67, 0.3), 0 1px 3px 1px rgba(60, 64, 67, 0.15);\n",
              "    fill: var(--button-hover-fill-color);\n",
              "  }\n",
              "\n",
              "  .colab-df-quickchart-complete:disabled,\n",
              "  .colab-df-quickchart-complete:disabled:hover {\n",
              "    background-color: var(--disabled-bg-color);\n",
              "    fill: var(--disabled-fill-color);\n",
              "    box-shadow: none;\n",
              "  }\n",
              "\n",
              "  .colab-df-spinner {\n",
              "    border: 2px solid var(--fill-color);\n",
              "    border-color: transparent;\n",
              "    border-bottom-color: var(--fill-color);\n",
              "    animation:\n",
              "      spin 1s steps(1) infinite;\n",
              "  }\n",
              "\n",
              "  @keyframes spin {\n",
              "    0% {\n",
              "      border-color: transparent;\n",
              "      border-bottom-color: var(--fill-color);\n",
              "      border-left-color: var(--fill-color);\n",
              "    }\n",
              "    20% {\n",
              "      border-color: transparent;\n",
              "      border-left-color: var(--fill-color);\n",
              "      border-top-color: var(--fill-color);\n",
              "    }\n",
              "    30% {\n",
              "      border-color: transparent;\n",
              "      border-left-color: var(--fill-color);\n",
              "      border-top-color: var(--fill-color);\n",
              "      border-right-color: var(--fill-color);\n",
              "    }\n",
              "    40% {\n",
              "      border-color: transparent;\n",
              "      border-right-color: var(--fill-color);\n",
              "      border-top-color: var(--fill-color);\n",
              "    }\n",
              "    60% {\n",
              "      border-color: transparent;\n",
              "      border-right-color: var(--fill-color);\n",
              "    }\n",
              "    80% {\n",
              "      border-color: transparent;\n",
              "      border-right-color: var(--fill-color);\n",
              "      border-bottom-color: var(--fill-color);\n",
              "    }\n",
              "    90% {\n",
              "      border-color: transparent;\n",
              "      border-bottom-color: var(--fill-color);\n",
              "    }\n",
              "  }\n",
              "</style>\n",
              "\n",
              "  <script>\n",
              "    async function quickchart(key) {\n",
              "      const quickchartButtonEl =\n",
              "        document.querySelector('#' + key + ' button');\n",
              "      quickchartButtonEl.disabled = true;  // To prevent multiple clicks.\n",
              "      quickchartButtonEl.classList.add('colab-df-spinner');\n",
              "      try {\n",
              "        const charts = await google.colab.kernel.invokeFunction(\n",
              "            'suggestCharts', [key], {});\n",
              "      } catch (error) {\n",
              "        console.error('Error during call to suggestCharts:', error);\n",
              "      }\n",
              "      quickchartButtonEl.classList.remove('colab-df-spinner');\n",
              "      quickchartButtonEl.classList.add('colab-df-quickchart-complete');\n",
              "    }\n",
              "    (() => {\n",
              "      let quickchartButtonEl =\n",
              "        document.querySelector('#df-2ae42c6b-32a6-44f0-b014-baddbbe6f448 button');\n",
              "      quickchartButtonEl.style.display =\n",
              "        google.colab.kernel.accessAllowed ? 'block' : 'none';\n",
              "    })();\n",
              "  </script>\n",
              "</div>\n",
              "    </div>\n",
              "  </div>\n"
            ]
          },
          "metadata": {},
          "execution_count": 23
        }
      ]
    },
    {
      "cell_type": "code",
      "source": [
        "#Membuat fungsi untuk menerjemahkan slang words\n",
        "\n",
        "def transform_slang_words(text):\n",
        "    word_list = text.split()\n",
        "    word_list_len = len(word_list)\n",
        "    transformed_word_list = []\n",
        "    i = 0\n",
        "    while i < word_list_len:\n",
        "        if (i + 1) < word_list_len:\n",
        "            two_words = ' '.join(word_list[i:i+2])\n",
        "            if two_words in slang_dict:\n",
        "                transformed_word_list.append(slang_dict[two_words])\n",
        "                i += 2\n",
        "                continue\n",
        "        transformed_word_list.append(slang_dict.get(word_list[i], word_list[i]))\n",
        "        i += 1\n",
        "    return ' '.join(transformed_word_list)"
      ],
      "metadata": {
        "id": "lchuWH4tWgpZ"
      },
      "execution_count": 24,
      "outputs": []
    },
    {
      "cell_type": "code",
      "source": [
        "data_train['original_text'] = data_train['original_text'].apply(transform_slang_words)"
      ],
      "metadata": {
        "id": "1o2Cz3bNWm_I"
      },
      "execution_count": 25,
      "outputs": []
    },
    {
      "cell_type": "markdown",
      "source": [
        "Menghapus URL"
      ],
      "metadata": {
        "id": "YboAm63RWtrC"
      }
    },
    {
      "cell_type": "code",
      "source": [
        "#Membuat fungsi untuk menghapus URL\n",
        "\n",
        "def remove_url(text):\n",
        "    return re.sub('((www\\.[^\\s]+)|(https?://[^\\s]+)|(http?://[^\\s]+))', '', text)"
      ],
      "metadata": {
        "id": "zNwSWnF0WvPT"
      },
      "execution_count": 26,
      "outputs": []
    },
    {
      "cell_type": "code",
      "source": [
        "data_train['original_text'] = data_train['original_text'].apply(remove_url)"
      ],
      "metadata": {
        "id": "n0whEH39W1pF"
      },
      "execution_count": 27,
      "outputs": []
    },
    {
      "cell_type": "markdown",
      "source": [
        "Menghapus spasi berlebih"
      ],
      "metadata": {
        "id": "0Padio3HW5F8"
      }
    },
    {
      "cell_type": "code",
      "source": [
        "#Membuat fungsi untuk menghapus spasi berlebih\n",
        "\n",
        "def remove_whitespace(tweet):\n",
        "  return ' '. join(tweet.split())"
      ],
      "metadata": {
        "id": "4alLP9v5W7-F"
      },
      "execution_count": 28,
      "outputs": []
    },
    {
      "cell_type": "code",
      "source": [
        "data_train['original_text'] = data_train['original_text'].apply(remove_whitespace)"
      ],
      "metadata": {
        "id": "YJpgK68UXC7f"
      },
      "execution_count": 29,
      "outputs": []
    },
    {
      "cell_type": "markdown",
      "source": [
        "Menghapus non alfabet"
      ],
      "metadata": {
        "id": "omOznvoSXHb2"
      }
    },
    {
      "cell_type": "code",
      "source": [
        "#Fungsi untuk menghapus non alfabet\n",
        "\n",
        "def remove_non_alphabet(text):\n",
        "    output = re.sub('[^a-zA-Z ]+', '', text)\n",
        "    return output"
      ],
      "metadata": {
        "id": "lDukY7v_XJ-P"
      },
      "execution_count": 30,
      "outputs": []
    },
    {
      "cell_type": "code",
      "source": [
        "data_train['original_text'] = data_train['original_text'].apply(remove_non_alphabet)"
      ],
      "metadata": {
        "id": "fq34xvQrXP20"
      },
      "execution_count": 31,
      "outputs": []
    },
    {
      "cell_type": "markdown",
      "source": [
        "Menghapus karakter berulang"
      ],
      "metadata": {
        "id": "2D2oWm4DXY0k"
      }
    },
    {
      "cell_type": "code",
      "source": [
        "#Fungsi untuk menghapus karakter berulang\n",
        "\n",
        "def remove_repeating_characters(text):\n",
        "    return ''.join(''.join(s)[:1] for _, s in itertools.groupby(text))"
      ],
      "metadata": {
        "id": "ffQMnPvuXcEq"
      },
      "execution_count": 32,
      "outputs": []
    },
    {
      "cell_type": "code",
      "source": [
        "data_train['original_text'] = data_train['original_text'].apply(remove_repeating_characters)"
      ],
      "metadata": {
        "id": "76WMwc-QXir6"
      },
      "execution_count": 33,
      "outputs": []
    },
    {
      "cell_type": "code",
      "source": [
        "for i in range(10):\n",
        "  print('>>>>> TEXT #{}'.format(i + 1))\n",
        "  print(data_train['original_text'].values[i])"
      ],
      "metadata": {
        "colab": {
          "base_uri": "https://localhost:8080/"
        },
        "id": "9jNdeL09Xour",
        "outputId": "d518a4ee-bb79-497b-9abd-1b4032e99d61"
      },
      "execution_count": 34,
      "outputs": [
        {
          "output_type": "stream",
          "name": "stdout",
          "text": [
            ">>>>> TEXT #1\n",
            "walah enak sekali dapat pengikut instagram cepat di sini panelpediavip com dan gratis panel pedia net hapus spasi pada link\n",
            ">>>>> TEXT #2\n",
            "saya kira umat islam yang masih mahu kepada khilafah empayar islam pemerintahan muslim harus sedar gesan itu tidak berpijak di bumi yang nyata\n",
            ">>>>> TEXT #3\n",
            "sering kalah ayo daripada kalah terus boleh untuk mencoba keberuntunganya di situs kami sahabatq iya bosku promo bonus rolingan hari sekali promo bonus referal bonus ekstra referal bulan sekali ayo tungu apa lagi temanteman segera bergabung bersama kami temanteman untuk informasi lebih jelas silakan hubungi customer service kami yang daring jam livechat w mejasahabat net pin bahan bakar minyak android customer service shbt pin bahan bakar minyak blackbery customer service ae pin bahan bakar minyak blackbery customer service bdae whatsap buruan daftar sekarang juga iya aku tungu guys untuk pendaftaran silakan klik kolom daftar atau link di bawah ini bos\n",
            ">>>>> TEXT #4\n",
            "ya rudalnya tan pling enk meluk kamu dari belkng smbil di sodok mecky kmnya smbil saya remas tetek kamu yang semok\n",
            ">>>>> TEXT #5\n",
            "pihak oposisi bahkan menyalahkan pemerintah karena minta saham persen ngoblok benar oposisi dan dan nelu yang ketipu sama jokok sudah pasti masuk jadi aset inalum kapan kita kebagian devidenya yang konon triliunan itu tertawa tertawa baru tanda tangan hoa saja sudah dijadin pencitran buat pilpres belum juga pasti\n",
            ">>>>> TEXT #6\n",
            "informasi lomba masih sama mau berprestasi ayo ikutan lomba intel hadiahnya menarik dengan total hadiah jt jalan jalan di kota malang more informasi cek instagram\n",
            ">>>>> TEXT #7\n",
            "ntagihan tambahan tagihan siluman dan dan dan nmasih bagus ada ping nya daripada rto dan dan dan dan dan nlebih sampah ping k apa rto dan tertawa tertawa tertawa tertawa tertawa dan dan ntambahin ncie yang lemparin bata saja yang banyak dong biar keren merah semua wakaka wakaka wakaka wakaka wakaka wakaka wakaka tertawa tertawa\n",
            ">>>>> TEXT #8\n",
            "subanaloh inilah bukti islam agama damai karena bisa saja gereja itu dibakar atau diledakan pakai bom pendetanya dipengal dan umatnya digorok yang wanita dijadikan budak seks tapi oleh front pembela islam gereja tersebut hanya diteriakin secara histeris dan di traktir tuak bir sambil menanyakan halo apa kabar halo pak akbar apa kabar sunguh isalm adalah agama damai rahmat bagi semesta alam iya akhi angel peluk dan\n",
            ">>>>> TEXT #9\n",
            "admin kalau perlu kue lebaran kabarin ya nanti saya kirim ke prodeo cie yang lebaran di prodeo\n",
            ">>>>> TEXT #10\n",
            "sekaligus usir dari bandung sopir kafir itu mereka sumber masalah tukang mabuk di jalan kriminal buat bandung kotor infobandung\n"
          ]
        }
      ]
    },
    {
      "cell_type": "markdown",
      "source": [
        "Tokenizing : untuk mengubah kalimat menjadi token.Langkah ini dilakukan agar model mampu memahami struktur bahasa dan memungkinkan model untuk bekerja dengan teks dengan lebih efektf"
      ],
      "metadata": {
        "id": "Ml79oqYHXvGA"
      }
    },
    {
      "cell_type": "code",
      "source": [
        "nltk.download('punkt')\n",
        "from nltk.tokenize import word_tokenize\n",
        "\n",
        "#Membuat fungsi untuk tokenizing\n",
        "def tokenizing(tweet):\n",
        "    tokens = word_tokenize(tweet)\n",
        "    return ' '.join(tokens)"
      ],
      "metadata": {
        "colab": {
          "base_uri": "https://localhost:8080/"
        },
        "id": "crYLsOsZXoye",
        "outputId": "68c422cf-cabe-44a2-9de9-38531c79613d"
      },
      "execution_count": 35,
      "outputs": [
        {
          "output_type": "stream",
          "name": "stderr",
          "text": [
            "[nltk_data] Downloading package punkt to /root/nltk_data...\n",
            "[nltk_data]   Unzipping tokenizers/punkt.zip.\n"
          ]
        }
      ]
    },
    {
      "cell_type": "code",
      "source": [
        "data_train['original_text'] = data_train['original_text'].apply(tokenizing)"
      ],
      "metadata": {
        "id": "yBaXH_A4YiKP"
      },
      "execution_count": 36,
      "outputs": []
    },
    {
      "cell_type": "markdown",
      "source": [
        "Stemming : mengubah token menjadi kata dasarnya agar kata-kata yang berbeda yang memiliki akar yang sama dapat dianggap setara."
      ],
      "metadata": {
        "id": "q4sZH3_rYmTE"
      }
    },
    {
      "cell_type": "code",
      "source": [
        "pip install Sastrawi"
      ],
      "metadata": {
        "colab": {
          "base_uri": "https://localhost:8080/"
        },
        "id": "JAC05W5sYjGi",
        "outputId": "d7465289-74f1-44b5-d476-6750f802add1"
      },
      "execution_count": 37,
      "outputs": [
        {
          "output_type": "stream",
          "name": "stdout",
          "text": [
            "Collecting Sastrawi\n",
            "  Downloading Sastrawi-1.0.1-py2.py3-none-any.whl (209 kB)\n",
            "\u001b[?25l     \u001b[90m━━━━━━━━━━━━━━━━━━━━━━━━━━━━━━━━━━━━━━━━\u001b[0m \u001b[32m0.0/209.7 kB\u001b[0m \u001b[31m?\u001b[0m eta \u001b[36m-:--:--\u001b[0m\r\u001b[2K     \u001b[91m━━━━━━━━━━━━━━━━━\u001b[0m\u001b[91m╸\u001b[0m\u001b[90m━━━━━━━━━━━━━━━━━━━━━━\u001b[0m \u001b[32m92.2/209.7 kB\u001b[0m \u001b[31m2.6 MB/s\u001b[0m eta \u001b[36m0:00:01\u001b[0m\r\u001b[2K     \u001b[90m━━━━━━━━━━━━━━━━━━━━━━━━━━━━━━━━━━━━━━━━\u001b[0m \u001b[32m209.7/209.7 kB\u001b[0m \u001b[31m3.8 MB/s\u001b[0m eta \u001b[36m0:00:00\u001b[0m\n",
            "\u001b[?25hInstalling collected packages: Sastrawi\n",
            "Successfully installed Sastrawi-1.0.1\n"
          ]
        }
      ]
    },
    {
      "cell_type": "code",
      "source": [
        "from Sastrawi.Stemmer.StemmerFactory import StemmerFactory\n",
        "\n",
        "# Membuat objek stemmer\n",
        "factory = StemmerFactory()\n",
        "stemmer = factory.create_stemmer()\n",
        "\n",
        "def stemmed_wrapper(term):\n",
        "  return stemmer.stem(term)\n",
        "\n",
        "# Melakukan stemming pada semua token di kolom 'original_text'\n",
        "def stem_all_tokens(dataframe):\n",
        "    term_base = {}\n",
        "    for document in dataframe['original_text']:\n",
        "        for term in document.split():\n",
        "            if term not in term_base:\n",
        "                term_base[term] = \" \"\n",
        "\n",
        "    for term in term_base:\n",
        "        term_base[term] = stemmed_wrapper(term)\n",
        "\n",
        "    dataframe['original_text'] = dataframe['original_text'].apply(lambda x: ' '.join([term_base[word] for word in x.split()]))\n",
        "\n",
        "    return dataframe"
      ],
      "metadata": {
        "id": "v-pwAhBnY-xI"
      },
      "execution_count": 38,
      "outputs": []
    },
    {
      "cell_type": "code",
      "source": [
        "# Panggil fungsi stem_all_tokens dengan DataFrame yang ingin Anda proses\n",
        "hasil_steem = stem_all_tokens(data_train)"
      ],
      "metadata": {
        "id": "42jNXjyJZDxn"
      },
      "execution_count": 39,
      "outputs": []
    },
    {
      "cell_type": "markdown",
      "source": [
        "TF - IDF dengan tujuan mengambil informasi untuk mengukur seberapa penting sebuah kata atau frase dalam suatu dokumen terhadap kumpulan dokumen yang lebih besar. Cara kerjanya adalah dengan menghitung bobot kata."
      ],
      "metadata": {
        "id": "M27JBoanZIqo"
      }
    },
    {
      "cell_type": "code",
      "source": [
        "from collections import Counter\n",
        "import math\n",
        "\n",
        "# Menghitung Term Frequency (TF) untuk kolom 'original_text'\n",
        "def calculate_tf(document):\n",
        "    words = document.split()\n",
        "    word_count = len(words)\n",
        "    term_frequency = Counter(words)\n",
        "    tf = {word: count / word_count for word, count in term_frequency.items()}\n",
        "    return tf\n",
        "\n",
        "# Menghitung Inverse Document Frequency (IDF) untuk kolom 'original_text'\n",
        "def calculate_idf(documents):\n",
        "    word_to_document_count = {}\n",
        "    total_documents = len(documents)\n",
        "\n",
        "    for document in documents:\n",
        "        words = set(document.split())\n",
        "        for word in words:\n",
        "            word_to_document_count[word] = word_to_document_count.get(word, 0) + 1\n",
        "\n",
        "    idf = {word: math.log(total_documents / count) for word, count in word_to_document_count.items()}\n",
        "    return idf\n",
        "\n",
        "# Menghitung TF-IDF untuk kolom 'original_text'\n",
        "def calculate_tfidf(document, idf):\n",
        "    tf = calculate_tf(document)\n",
        "    tfidf = {word: tf[word] * idf[word] for word in tf}\n",
        "    # Mengembalikan hanya bobot TF-IDF sebagai daftar\n",
        "    return list(tfidf.values())"
      ],
      "metadata": {
        "id": "xqtoRgbMZFmz"
      },
      "execution_count": 41,
      "outputs": []
    },
    {
      "cell_type": "code",
      "source": [
        "# Menghitung IDF\n",
        "idf = calculate_idf(data_train['original_text'])\n",
        "\n",
        "# Menghitung TF-IDF untuk setiap dokumen dalam kolom 'original_text'\n",
        "data_train['tfidf'] = data_train['original_text'].apply(lambda x: calculate_tfidf(x, idf))\n",
        "\n",
        "# Menampilkan hasil TF-IDF\n",
        "data_train[['original_text', 'tfidf', 'pencemaran_nama_baik']]\n",
        "\n",
        "data_train.reset_index(drop=True, inplace=True)\n",
        "data_train.head()"
      ],
      "metadata": {
        "colab": {
          "base_uri": "https://localhost:8080/",
          "height": 206
        },
        "id": "6_4bHwd_Z-RS",
        "outputId": "89c07a81-b3b7-4dd4-e787-3384d893914c"
      },
      "execution_count": 42,
      "outputs": [
        {
          "output_type": "execute_result",
          "data": {
            "text/plain": [
              "                                       original_text  pencemaran_nama_baik  \\\n",
              "0  walah enak sekali dapat ikut instagram cepat d...                     0   \n",
              "1  saya kira umat islam yang masih mahu kepada kh...                     0   \n",
              "2  sering kalah ayo daripada kalah terus boleh un...                     0   \n",
              "3  ya rudal tan pling enk luk kamu dari belkng sm...                     0   \n",
              "4  pihak oposisi bahkan salah perintah karena min...                     0   \n",
              "\n",
              "                                               tfidf  \n",
              "0  [0.338539471195449, 0.20803598155834868, 0.133...  \n",
              "1  [0.09768823014549702, 0.19695998846230528, 0.1...  \n",
              "2  [0.044289836177616525, 0.08321439262333946, 0....  \n",
              "3  [0.15047007196498835, 0.3990584445877657, 0.30...  \n",
              "4  [0.09148423520372512, 0.29141387396763285, 0.0...  "
            ],
            "text/html": [
              "\n",
              "  <div id=\"df-cae5ff27-097e-4c54-ba4d-1cb2e9bb124d\" class=\"colab-df-container\">\n",
              "    <div>\n",
              "<style scoped>\n",
              "    .dataframe tbody tr th:only-of-type {\n",
              "        vertical-align: middle;\n",
              "    }\n",
              "\n",
              "    .dataframe tbody tr th {\n",
              "        vertical-align: top;\n",
              "    }\n",
              "\n",
              "    .dataframe thead th {\n",
              "        text-align: right;\n",
              "    }\n",
              "</style>\n",
              "<table border=\"1\" class=\"dataframe\">\n",
              "  <thead>\n",
              "    <tr style=\"text-align: right;\">\n",
              "      <th></th>\n",
              "      <th>original_text</th>\n",
              "      <th>pencemaran_nama_baik</th>\n",
              "      <th>tfidf</th>\n",
              "    </tr>\n",
              "  </thead>\n",
              "  <tbody>\n",
              "    <tr>\n",
              "      <th>0</th>\n",
              "      <td>walah enak sekali dapat ikut instagram cepat d...</td>\n",
              "      <td>0</td>\n",
              "      <td>[0.338539471195449, 0.20803598155834868, 0.133...</td>\n",
              "    </tr>\n",
              "    <tr>\n",
              "      <th>1</th>\n",
              "      <td>saya kira umat islam yang masih mahu kepada kh...</td>\n",
              "      <td>0</td>\n",
              "      <td>[0.09768823014549702, 0.19695998846230528, 0.1...</td>\n",
              "    </tr>\n",
              "    <tr>\n",
              "      <th>2</th>\n",
              "      <td>sering kalah ayo daripada kalah terus boleh un...</td>\n",
              "      <td>0</td>\n",
              "      <td>[0.044289836177616525, 0.08321439262333946, 0....</td>\n",
              "    </tr>\n",
              "    <tr>\n",
              "      <th>3</th>\n",
              "      <td>ya rudal tan pling enk luk kamu dari belkng sm...</td>\n",
              "      <td>0</td>\n",
              "      <td>[0.15047007196498835, 0.3990584445877657, 0.30...</td>\n",
              "    </tr>\n",
              "    <tr>\n",
              "      <th>4</th>\n",
              "      <td>pihak oposisi bahkan salah perintah karena min...</td>\n",
              "      <td>0</td>\n",
              "      <td>[0.09148423520372512, 0.29141387396763285, 0.0...</td>\n",
              "    </tr>\n",
              "  </tbody>\n",
              "</table>\n",
              "</div>\n",
              "    <div class=\"colab-df-buttons\">\n",
              "\n",
              "  <div class=\"colab-df-container\">\n",
              "    <button class=\"colab-df-convert\" onclick=\"convertToInteractive('df-cae5ff27-097e-4c54-ba4d-1cb2e9bb124d')\"\n",
              "            title=\"Convert this dataframe to an interactive table.\"\n",
              "            style=\"display:none;\">\n",
              "\n",
              "  <svg xmlns=\"http://www.w3.org/2000/svg\" height=\"24px\" viewBox=\"0 -960 960 960\">\n",
              "    <path d=\"M120-120v-720h720v720H120Zm60-500h600v-160H180v160Zm220 220h160v-160H400v160Zm0 220h160v-160H400v160ZM180-400h160v-160H180v160Zm440 0h160v-160H620v160ZM180-180h160v-160H180v160Zm440 0h160v-160H620v160Z\"/>\n",
              "  </svg>\n",
              "    </button>\n",
              "\n",
              "  <style>\n",
              "    .colab-df-container {\n",
              "      display:flex;\n",
              "      gap: 12px;\n",
              "    }\n",
              "\n",
              "    .colab-df-convert {\n",
              "      background-color: #E8F0FE;\n",
              "      border: none;\n",
              "      border-radius: 50%;\n",
              "      cursor: pointer;\n",
              "      display: none;\n",
              "      fill: #1967D2;\n",
              "      height: 32px;\n",
              "      padding: 0 0 0 0;\n",
              "      width: 32px;\n",
              "    }\n",
              "\n",
              "    .colab-df-convert:hover {\n",
              "      background-color: #E2EBFA;\n",
              "      box-shadow: 0px 1px 2px rgba(60, 64, 67, 0.3), 0px 1px 3px 1px rgba(60, 64, 67, 0.15);\n",
              "      fill: #174EA6;\n",
              "    }\n",
              "\n",
              "    .colab-df-buttons div {\n",
              "      margin-bottom: 4px;\n",
              "    }\n",
              "\n",
              "    [theme=dark] .colab-df-convert {\n",
              "      background-color: #3B4455;\n",
              "      fill: #D2E3FC;\n",
              "    }\n",
              "\n",
              "    [theme=dark] .colab-df-convert:hover {\n",
              "      background-color: #434B5C;\n",
              "      box-shadow: 0px 1px 3px 1px rgba(0, 0, 0, 0.15);\n",
              "      filter: drop-shadow(0px 1px 2px rgba(0, 0, 0, 0.3));\n",
              "      fill: #FFFFFF;\n",
              "    }\n",
              "  </style>\n",
              "\n",
              "    <script>\n",
              "      const buttonEl =\n",
              "        document.querySelector('#df-cae5ff27-097e-4c54-ba4d-1cb2e9bb124d button.colab-df-convert');\n",
              "      buttonEl.style.display =\n",
              "        google.colab.kernel.accessAllowed ? 'block' : 'none';\n",
              "\n",
              "      async function convertToInteractive(key) {\n",
              "        const element = document.querySelector('#df-cae5ff27-097e-4c54-ba4d-1cb2e9bb124d');\n",
              "        const dataTable =\n",
              "          await google.colab.kernel.invokeFunction('convertToInteractive',\n",
              "                                                    [key], {});\n",
              "        if (!dataTable) return;\n",
              "\n",
              "        const docLinkHtml = 'Like what you see? Visit the ' +\n",
              "          '<a target=\"_blank\" href=https://colab.research.google.com/notebooks/data_table.ipynb>data table notebook</a>'\n",
              "          + ' to learn more about interactive tables.';\n",
              "        element.innerHTML = '';\n",
              "        dataTable['output_type'] = 'display_data';\n",
              "        await google.colab.output.renderOutput(dataTable, element);\n",
              "        const docLink = document.createElement('div');\n",
              "        docLink.innerHTML = docLinkHtml;\n",
              "        element.appendChild(docLink);\n",
              "      }\n",
              "    </script>\n",
              "  </div>\n",
              "\n",
              "\n",
              "<div id=\"df-c76ff15a-f441-4e0b-8ab1-328269b33a9e\">\n",
              "  <button class=\"colab-df-quickchart\" onclick=\"quickchart('df-c76ff15a-f441-4e0b-8ab1-328269b33a9e')\"\n",
              "            title=\"Suggest charts.\"\n",
              "            style=\"display:none;\">\n",
              "\n",
              "<svg xmlns=\"http://www.w3.org/2000/svg\" height=\"24px\"viewBox=\"0 0 24 24\"\n",
              "     width=\"24px\">\n",
              "    <g>\n",
              "        <path d=\"M19 3H5c-1.1 0-2 .9-2 2v14c0 1.1.9 2 2 2h14c1.1 0 2-.9 2-2V5c0-1.1-.9-2-2-2zM9 17H7v-7h2v7zm4 0h-2V7h2v10zm4 0h-2v-4h2v4z\"/>\n",
              "    </g>\n",
              "</svg>\n",
              "  </button>\n",
              "\n",
              "<style>\n",
              "  .colab-df-quickchart {\n",
              "      --bg-color: #E8F0FE;\n",
              "      --fill-color: #1967D2;\n",
              "      --hover-bg-color: #E2EBFA;\n",
              "      --hover-fill-color: #174EA6;\n",
              "      --disabled-fill-color: #AAA;\n",
              "      --disabled-bg-color: #DDD;\n",
              "  }\n",
              "\n",
              "  [theme=dark] .colab-df-quickchart {\n",
              "      --bg-color: #3B4455;\n",
              "      --fill-color: #D2E3FC;\n",
              "      --hover-bg-color: #434B5C;\n",
              "      --hover-fill-color: #FFFFFF;\n",
              "      --disabled-bg-color: #3B4455;\n",
              "      --disabled-fill-color: #666;\n",
              "  }\n",
              "\n",
              "  .colab-df-quickchart {\n",
              "    background-color: var(--bg-color);\n",
              "    border: none;\n",
              "    border-radius: 50%;\n",
              "    cursor: pointer;\n",
              "    display: none;\n",
              "    fill: var(--fill-color);\n",
              "    height: 32px;\n",
              "    padding: 0;\n",
              "    width: 32px;\n",
              "  }\n",
              "\n",
              "  .colab-df-quickchart:hover {\n",
              "    background-color: var(--hover-bg-color);\n",
              "    box-shadow: 0 1px 2px rgba(60, 64, 67, 0.3), 0 1px 3px 1px rgba(60, 64, 67, 0.15);\n",
              "    fill: var(--button-hover-fill-color);\n",
              "  }\n",
              "\n",
              "  .colab-df-quickchart-complete:disabled,\n",
              "  .colab-df-quickchart-complete:disabled:hover {\n",
              "    background-color: var(--disabled-bg-color);\n",
              "    fill: var(--disabled-fill-color);\n",
              "    box-shadow: none;\n",
              "  }\n",
              "\n",
              "  .colab-df-spinner {\n",
              "    border: 2px solid var(--fill-color);\n",
              "    border-color: transparent;\n",
              "    border-bottom-color: var(--fill-color);\n",
              "    animation:\n",
              "      spin 1s steps(1) infinite;\n",
              "  }\n",
              "\n",
              "  @keyframes spin {\n",
              "    0% {\n",
              "      border-color: transparent;\n",
              "      border-bottom-color: var(--fill-color);\n",
              "      border-left-color: var(--fill-color);\n",
              "    }\n",
              "    20% {\n",
              "      border-color: transparent;\n",
              "      border-left-color: var(--fill-color);\n",
              "      border-top-color: var(--fill-color);\n",
              "    }\n",
              "    30% {\n",
              "      border-color: transparent;\n",
              "      border-left-color: var(--fill-color);\n",
              "      border-top-color: var(--fill-color);\n",
              "      border-right-color: var(--fill-color);\n",
              "    }\n",
              "    40% {\n",
              "      border-color: transparent;\n",
              "      border-right-color: var(--fill-color);\n",
              "      border-top-color: var(--fill-color);\n",
              "    }\n",
              "    60% {\n",
              "      border-color: transparent;\n",
              "      border-right-color: var(--fill-color);\n",
              "    }\n",
              "    80% {\n",
              "      border-color: transparent;\n",
              "      border-right-color: var(--fill-color);\n",
              "      border-bottom-color: var(--fill-color);\n",
              "    }\n",
              "    90% {\n",
              "      border-color: transparent;\n",
              "      border-bottom-color: var(--fill-color);\n",
              "    }\n",
              "  }\n",
              "</style>\n",
              "\n",
              "  <script>\n",
              "    async function quickchart(key) {\n",
              "      const quickchartButtonEl =\n",
              "        document.querySelector('#' + key + ' button');\n",
              "      quickchartButtonEl.disabled = true;  // To prevent multiple clicks.\n",
              "      quickchartButtonEl.classList.add('colab-df-spinner');\n",
              "      try {\n",
              "        const charts = await google.colab.kernel.invokeFunction(\n",
              "            'suggestCharts', [key], {});\n",
              "      } catch (error) {\n",
              "        console.error('Error during call to suggestCharts:', error);\n",
              "      }\n",
              "      quickchartButtonEl.classList.remove('colab-df-spinner');\n",
              "      quickchartButtonEl.classList.add('colab-df-quickchart-complete');\n",
              "    }\n",
              "    (() => {\n",
              "      let quickchartButtonEl =\n",
              "        document.querySelector('#df-c76ff15a-f441-4e0b-8ab1-328269b33a9e button');\n",
              "      quickchartButtonEl.style.display =\n",
              "        google.colab.kernel.accessAllowed ? 'block' : 'none';\n",
              "    })();\n",
              "  </script>\n",
              "</div>\n",
              "    </div>\n",
              "  </div>\n"
            ]
          },
          "metadata": {},
          "execution_count": 42
        }
      ]
    },
    {
      "cell_type": "code",
      "source": [
        "#Mengubah X menjadi matrix sesuai hasil tf idf\n",
        "\n",
        "max_features = 5000\n",
        "\n",
        "# Inisialisasi matriks nol dengan dimensi (jumlah dokumen, max_features)\n",
        "X = np.zeros((len(data_train['tfidf']), max_features))\n",
        "\n",
        "# Isi matriks dengan bobot TF-IDF dari daftar bobot\n",
        "for i, tfidf_list in enumerate(data_train['tfidf']):\n",
        "    # Ambil maksimal 5000 bobot pertama (kolom pertama)\n",
        "    X[i, :len(tfidf_list)] = tfidf_list[:max_features]"
      ],
      "metadata": {
        "id": "8Av3VAxnaBwv"
      },
      "execution_count": 43,
      "outputs": []
    },
    {
      "cell_type": "markdown",
      "source": [
        "#Stratch Matematika untuk Algoritma Logistic Regression\n",
        "\n",
        "ALgoritma logistic regression dipilih dalam project ini sebagai permulaan dalam melatih model sebelum menggunakan Neural Network. Neural Network termasuk dalam deep learning dimana deep learning kerap kali digunakan pada kasus dengan data yang jumlahnya banyak. Sedangkan data yang digunakan dalam project ini memiliki 4+++ baris dimana jumlah ini masih logis jika dieksperimentasi menggunakan algoritma yang lebih sederhana terlebih dahulu seperti Logistic Regression. Selain itu dari sisi teknis, Neural Network kerapkali membutuhkan alat komputasi yang mahal."
      ],
      "metadata": {
        "id": "azndaIZJaUAw"
      }
    },
    {
      "cell_type": "code",
      "source": [
        "class LogisticRegression:\n",
        "  def __init__(self):\n",
        "    self._weights = []\n",
        "    self._learningRate = 0.02\n",
        "    self._epoch = 10\n",
        "    self._x = []\n",
        "    self._y = []\n",
        "\n",
        "  def linearFunction(self, data):\n",
        "    return np.dot(data, self._weights)\n",
        "\n",
        "  def logisticFunction(self, linearResult):\n",
        "    return 1 / ( 1 + np.exp(-(linearResult)))\n",
        "\n",
        "  def updateWeights(self, X, y):\n",
        "    temp = np.zeros(len(X))\n",
        "    for i in range(len(self._weights)):\n",
        "      d = (self.logisticFunction(self.linearFunction(X)) - y) * X[i]\n",
        "      temp[i] = self._weights[i] - (self._learningRate * d)\n",
        "\n",
        "    return temp\n",
        "\n",
        "  def logisticRegressionLoss(self, yPredicted, yActual):\n",
        "    loss = -(yActual * np.log(yPredicted) + (1-yActual) * np.log(1-yPredicted))\n",
        "    meanLoss = loss.mean()\n",
        "    return meanLoss\n",
        "\n",
        "  def logisticRegressionAccuracy(self, yPredicted, yActual):\n",
        "    yPredicted = yPredicted.round().astype(int)\n",
        "    xor = yPredicted ^ yActual\n",
        "    return np.count_nonzero(xor == 0)/len(xor)\n",
        "\n",
        "  def fit(self, X, y, learningRate, epoch):\n",
        "    self._x = X\n",
        "    self._y = y\n",
        "    self._learningRate = learningRate\n",
        "    self._epoch = epoch\n",
        "\n",
        "    featureCount = len(self._x[0])\n",
        "    self._weights = np.random.rand(featureCount)\n",
        "\n",
        "    for epoch in range(self._epoch):\n",
        "      listResult = []\n",
        "\n",
        "      for i in range(len(self._x)):\n",
        "        listResult.append(self.logisticFunction(self.linearFunction(self._x[i])))\n",
        "        self._weights = self.updateWeights(self._x[i], self._y[i])\n",
        "\n",
        "      print(\"epoch: \", epoch + 1,\n",
        "            \"\\tloss: \", self.logisticRegressionLoss(np.asarray(listResult), y),\n",
        "            \"\\taccuracy: \", self.logisticRegressionAccuracy(np.asarray(listResult), y)\n",
        "      )\n",
        "\n",
        "  def predict(self, X):\n",
        "    X = np.array(X)\n",
        "    if X.ndim == 2:\n",
        "        listResult = []\n",
        "        for i in range(len(X)):\n",
        "            listResult.append(self.logisticFunction(self.linearFunction(X[i])))\n",
        "        return listResult\n",
        "    else:\n",
        "        raise ValueError(\"Got array in dimension of \" + str(X.ndim) + \", expecting array in a dimension of 2.\")"
      ],
      "metadata": {
        "id": "wq7V9xjaaSdo"
      },
      "execution_count": 44,
      "outputs": []
    },
    {
      "cell_type": "code",
      "source": [
        "# Persiapan Data\n",
        "X = X\n",
        "y = data_train['pencemaran_nama_baik']"
      ],
      "metadata": {
        "id": "Ob9d7UMdcQTc"
      },
      "execution_count": 45,
      "outputs": []
    },
    {
      "cell_type": "markdown",
      "source": [
        "Melatih model\n",
        "\n",
        "- Pemilihan nilai learning rate = 0.1 dilakukan karena semakin rendah nilai learning rate, maka semakin kecil kontribusi pada setiap iterasi bagi model dan semakin lambat waktu pelatihan model, namun juga dapat meningkatkan akurasi model. Oleh karena itu, dipilih learning rate 0.2 sebagai nilai cut off awal.\n",
        "\n",
        "- Pemilihan nilai epoch = 10 dilakukan untuk melihat gambaran awal bagaimana model belajar, apakah tingkat konvergensi dicapai pada nilai epoch ini atau tidak."
      ],
      "metadata": {
        "id": "P5kvT9W1cipV"
      }
    },
    {
      "cell_type": "code",
      "source": [
        "# Membuat Objek Model Regresi Logistik\n",
        "model = LogisticRegression()\n",
        "\n",
        "# Melatih Model\n",
        "learningRate = 0.02\n",
        "epoch = 10\n",
        "model.fit(X, y, learningRate, epoch)"
      ],
      "metadata": {
        "colab": {
          "base_uri": "https://localhost:8080/"
        },
        "id": "7PBTHYPGcVqL",
        "outputId": "61ab5422-168b-4974-a397-f4d35a6643bc"
      },
      "execution_count": 46,
      "outputs": [
        {
          "output_type": "stream",
          "name": "stdout",
          "text": [
            "epoch:  1 \tloss:  0.4057833830418769 \taccuracy:  0.8217889908256881\n",
            "epoch:  2 \tloss:  0.44231856937289876 \taccuracy:  0.810091743119266\n",
            "epoch:  3 \tloss:  0.43551724134469627 \taccuracy:  0.8130733944954128\n",
            "epoch:  4 \tloss:  0.4313458973745766 \taccuracy:  0.8151376146788991\n",
            "epoch:  5 \tloss:  0.428611952473031 \taccuracy:  0.8174311926605504\n",
            "epoch:  6 \tloss:  0.4266800070563249 \taccuracy:  0.8204128440366972\n",
            "epoch:  7 \tloss:  0.42524042187714206 \taccuracy:  0.8236238532110092\n",
            "epoch:  8 \tloss:  0.4241265559275957 \taccuracy:  0.8247706422018348\n",
            "epoch:  9 \tloss:  0.4232401813060422 \taccuracy:  0.8268348623853211\n",
            "epoch:  10 \tloss:  0.4225190253149113 \taccuracy:  0.8275229357798165\n"
          ]
        }
      ]
    },
    {
      "cell_type": "markdown",
      "source": [
        "Menyimpan model"
      ],
      "metadata": {
        "id": "NCb0WJPKe4Gn"
      }
    },
    {
      "cell_type": "code",
      "source": [
        "with open('model_klasifikasi_sentimen_New.pkl', 'wb') as file:\n",
        "    pickle.dump(model, file)"
      ],
      "metadata": {
        "id": "cF-lk4Rsezvd"
      },
      "execution_count": 47,
      "outputs": []
    },
    {
      "cell_type": "markdown",
      "source": [
        "#Predict Data"
      ],
      "metadata": {
        "id": "XupxtcmXfhqG"
      }
    },
    {
      "cell_type": "code",
      "source": [
        "data = {'original_text': ['47367saya kira    @ umat islam yang masih mahu kepada khilafah empayar islam perintah muslim harus dar gesan itu tidak pijak di bumi yang nyata', 'oposisi __=0bahkan salah perintah karena minta saham persen']}\n",
        "df = pd.DataFrame(data)"
      ],
      "metadata": {
        "colab": {
          "base_uri": "https://localhost:8080/",
          "height": 112
        },
        "id": "yWXVCagZfj40",
        "outputId": "61b58f23-bd6d-4274-e4d5-ed5d8181de78"
      },
      "execution_count": 40,
      "outputs": [
        {
          "output_type": "execute_result",
          "data": {
            "text/plain": [
              "                                       original_text\n",
              "0  47367saya kira    @ umat islam yang masih mahu...\n",
              "1  oposisi __=0bahkan salah perintah karena minta..."
            ],
            "text/html": [
              "\n",
              "  <div id=\"df-214ed10c-8f1b-44fe-97fa-1d52a28c3e96\" class=\"colab-df-container\">\n",
              "    <div>\n",
              "<style scoped>\n",
              "    .dataframe tbody tr th:only-of-type {\n",
              "        vertical-align: middle;\n",
              "    }\n",
              "\n",
              "    .dataframe tbody tr th {\n",
              "        vertical-align: top;\n",
              "    }\n",
              "\n",
              "    .dataframe thead th {\n",
              "        text-align: right;\n",
              "    }\n",
              "</style>\n",
              "<table border=\"1\" class=\"dataframe\">\n",
              "  <thead>\n",
              "    <tr style=\"text-align: right;\">\n",
              "      <th></th>\n",
              "      <th>original_text</th>\n",
              "    </tr>\n",
              "  </thead>\n",
              "  <tbody>\n",
              "    <tr>\n",
              "      <th>0</th>\n",
              "      <td>47367saya kira    @ umat islam yang masih mahu...</td>\n",
              "    </tr>\n",
              "    <tr>\n",
              "      <th>1</th>\n",
              "      <td>oposisi __=0bahkan salah perintah karena minta...</td>\n",
              "    </tr>\n",
              "  </tbody>\n",
              "</table>\n",
              "</div>\n",
              "    <div class=\"colab-df-buttons\">\n",
              "\n",
              "  <div class=\"colab-df-container\">\n",
              "    <button class=\"colab-df-convert\" onclick=\"convertToInteractive('df-214ed10c-8f1b-44fe-97fa-1d52a28c3e96')\"\n",
              "            title=\"Convert this dataframe to an interactive table.\"\n",
              "            style=\"display:none;\">\n",
              "\n",
              "  <svg xmlns=\"http://www.w3.org/2000/svg\" height=\"24px\" viewBox=\"0 -960 960 960\">\n",
              "    <path d=\"M120-120v-720h720v720H120Zm60-500h600v-160H180v160Zm220 220h160v-160H400v160Zm0 220h160v-160H400v160ZM180-400h160v-160H180v160Zm440 0h160v-160H620v160ZM180-180h160v-160H180v160Zm440 0h160v-160H620v160Z\"/>\n",
              "  </svg>\n",
              "    </button>\n",
              "\n",
              "  <style>\n",
              "    .colab-df-container {\n",
              "      display:flex;\n",
              "      gap: 12px;\n",
              "    }\n",
              "\n",
              "    .colab-df-convert {\n",
              "      background-color: #E8F0FE;\n",
              "      border: none;\n",
              "      border-radius: 50%;\n",
              "      cursor: pointer;\n",
              "      display: none;\n",
              "      fill: #1967D2;\n",
              "      height: 32px;\n",
              "      padding: 0 0 0 0;\n",
              "      width: 32px;\n",
              "    }\n",
              "\n",
              "    .colab-df-convert:hover {\n",
              "      background-color: #E2EBFA;\n",
              "      box-shadow: 0px 1px 2px rgba(60, 64, 67, 0.3), 0px 1px 3px 1px rgba(60, 64, 67, 0.15);\n",
              "      fill: #174EA6;\n",
              "    }\n",
              "\n",
              "    .colab-df-buttons div {\n",
              "      margin-bottom: 4px;\n",
              "    }\n",
              "\n",
              "    [theme=dark] .colab-df-convert {\n",
              "      background-color: #3B4455;\n",
              "      fill: #D2E3FC;\n",
              "    }\n",
              "\n",
              "    [theme=dark] .colab-df-convert:hover {\n",
              "      background-color: #434B5C;\n",
              "      box-shadow: 0px 1px 3px 1px rgba(0, 0, 0, 0.15);\n",
              "      filter: drop-shadow(0px 1px 2px rgba(0, 0, 0, 0.3));\n",
              "      fill: #FFFFFF;\n",
              "    }\n",
              "  </style>\n",
              "\n",
              "    <script>\n",
              "      const buttonEl =\n",
              "        document.querySelector('#df-214ed10c-8f1b-44fe-97fa-1d52a28c3e96 button.colab-df-convert');\n",
              "      buttonEl.style.display =\n",
              "        google.colab.kernel.accessAllowed ? 'block' : 'none';\n",
              "\n",
              "      async function convertToInteractive(key) {\n",
              "        const element = document.querySelector('#df-214ed10c-8f1b-44fe-97fa-1d52a28c3e96');\n",
              "        const dataTable =\n",
              "          await google.colab.kernel.invokeFunction('convertToInteractive',\n",
              "                                                    [key], {});\n",
              "        if (!dataTable) return;\n",
              "\n",
              "        const docLinkHtml = 'Like what you see? Visit the ' +\n",
              "          '<a target=\"_blank\" href=https://colab.research.google.com/notebooks/data_table.ipynb>data table notebook</a>'\n",
              "          + ' to learn more about interactive tables.';\n",
              "        element.innerHTML = '';\n",
              "        dataTable['output_type'] = 'display_data';\n",
              "        await google.colab.output.renderOutput(dataTable, element);\n",
              "        const docLink = document.createElement('div');\n",
              "        docLink.innerHTML = docLinkHtml;\n",
              "        element.appendChild(docLink);\n",
              "      }\n",
              "    </script>\n",
              "  </div>\n",
              "\n",
              "\n",
              "<div id=\"df-13d380b1-b48e-48ea-80c1-a210d72f332f\">\n",
              "  <button class=\"colab-df-quickchart\" onclick=\"quickchart('df-13d380b1-b48e-48ea-80c1-a210d72f332f')\"\n",
              "            title=\"Suggest charts.\"\n",
              "            style=\"display:none;\">\n",
              "\n",
              "<svg xmlns=\"http://www.w3.org/2000/svg\" height=\"24px\"viewBox=\"0 0 24 24\"\n",
              "     width=\"24px\">\n",
              "    <g>\n",
              "        <path d=\"M19 3H5c-1.1 0-2 .9-2 2v14c0 1.1.9 2 2 2h14c1.1 0 2-.9 2-2V5c0-1.1-.9-2-2-2zM9 17H7v-7h2v7zm4 0h-2V7h2v10zm4 0h-2v-4h2v4z\"/>\n",
              "    </g>\n",
              "</svg>\n",
              "  </button>\n",
              "\n",
              "<style>\n",
              "  .colab-df-quickchart {\n",
              "      --bg-color: #E8F0FE;\n",
              "      --fill-color: #1967D2;\n",
              "      --hover-bg-color: #E2EBFA;\n",
              "      --hover-fill-color: #174EA6;\n",
              "      --disabled-fill-color: #AAA;\n",
              "      --disabled-bg-color: #DDD;\n",
              "  }\n",
              "\n",
              "  [theme=dark] .colab-df-quickchart {\n",
              "      --bg-color: #3B4455;\n",
              "      --fill-color: #D2E3FC;\n",
              "      --hover-bg-color: #434B5C;\n",
              "      --hover-fill-color: #FFFFFF;\n",
              "      --disabled-bg-color: #3B4455;\n",
              "      --disabled-fill-color: #666;\n",
              "  }\n",
              "\n",
              "  .colab-df-quickchart {\n",
              "    background-color: var(--bg-color);\n",
              "    border: none;\n",
              "    border-radius: 50%;\n",
              "    cursor: pointer;\n",
              "    display: none;\n",
              "    fill: var(--fill-color);\n",
              "    height: 32px;\n",
              "    padding: 0;\n",
              "    width: 32px;\n",
              "  }\n",
              "\n",
              "  .colab-df-quickchart:hover {\n",
              "    background-color: var(--hover-bg-color);\n",
              "    box-shadow: 0 1px 2px rgba(60, 64, 67, 0.3), 0 1px 3px 1px rgba(60, 64, 67, 0.15);\n",
              "    fill: var(--button-hover-fill-color);\n",
              "  }\n",
              "\n",
              "  .colab-df-quickchart-complete:disabled,\n",
              "  .colab-df-quickchart-complete:disabled:hover {\n",
              "    background-color: var(--disabled-bg-color);\n",
              "    fill: var(--disabled-fill-color);\n",
              "    box-shadow: none;\n",
              "  }\n",
              "\n",
              "  .colab-df-spinner {\n",
              "    border: 2px solid var(--fill-color);\n",
              "    border-color: transparent;\n",
              "    border-bottom-color: var(--fill-color);\n",
              "    animation:\n",
              "      spin 1s steps(1) infinite;\n",
              "  }\n",
              "\n",
              "  @keyframes spin {\n",
              "    0% {\n",
              "      border-color: transparent;\n",
              "      border-bottom-color: var(--fill-color);\n",
              "      border-left-color: var(--fill-color);\n",
              "    }\n",
              "    20% {\n",
              "      border-color: transparent;\n",
              "      border-left-color: var(--fill-color);\n",
              "      border-top-color: var(--fill-color);\n",
              "    }\n",
              "    30% {\n",
              "      border-color: transparent;\n",
              "      border-left-color: var(--fill-color);\n",
              "      border-top-color: var(--fill-color);\n",
              "      border-right-color: var(--fill-color);\n",
              "    }\n",
              "    40% {\n",
              "      border-color: transparent;\n",
              "      border-right-color: var(--fill-color);\n",
              "      border-top-color: var(--fill-color);\n",
              "    }\n",
              "    60% {\n",
              "      border-color: transparent;\n",
              "      border-right-color: var(--fill-color);\n",
              "    }\n",
              "    80% {\n",
              "      border-color: transparent;\n",
              "      border-right-color: var(--fill-color);\n",
              "      border-bottom-color: var(--fill-color);\n",
              "    }\n",
              "    90% {\n",
              "      border-color: transparent;\n",
              "      border-bottom-color: var(--fill-color);\n",
              "    }\n",
              "  }\n",
              "</style>\n",
              "\n",
              "  <script>\n",
              "    async function quickchart(key) {\n",
              "      const quickchartButtonEl =\n",
              "        document.querySelector('#' + key + ' button');\n",
              "      quickchartButtonEl.disabled = true;  // To prevent multiple clicks.\n",
              "      quickchartButtonEl.classList.add('colab-df-spinner');\n",
              "      try {\n",
              "        const charts = await google.colab.kernel.invokeFunction(\n",
              "            'suggestCharts', [key], {});\n",
              "      } catch (error) {\n",
              "        console.error('Error during call to suggestCharts:', error);\n",
              "      }\n",
              "      quickchartButtonEl.classList.remove('colab-df-spinner');\n",
              "      quickchartButtonEl.classList.add('colab-df-quickchart-complete');\n",
              "    }\n",
              "    (() => {\n",
              "      let quickchartButtonEl =\n",
              "        document.querySelector('#df-13d380b1-b48e-48ea-80c1-a210d72f332f button');\n",
              "      quickchartButtonEl.style.display =\n",
              "        google.colab.kernel.accessAllowed ? 'block' : 'none';\n",
              "    })();\n",
              "  </script>\n",
              "</div>\n",
              "    </div>\n",
              "  </div>\n"
            ]
          },
          "metadata": {},
          "execution_count": 40
        }
      ]
    },
    {
      "cell_type": "code",
      "source": [
        "#Preprocess data\n",
        "\n",
        "df['original_text'] = np.vectorize(remove_pattern)(df['original_text'], \"@[\\w]*\")\n",
        "df['original_text'] = df['original_text'].apply(remove_emoji)\n",
        "df['original_text'] = df['original_text'].apply(translate_emoticon)\n",
        "df['original_text'] = df['original_text'].apply(remove_kaskus_formatting)\n",
        "df['original_text'] = df['original_text'].apply(clean_caracter)\n",
        "df['original_text'] = df['original_text'].apply(transform_slang_words)\n",
        "df['original_text'] = df['original_text'].apply(remove_url)\n",
        "df['original_text'] = df['original_text'].str.lower()\n",
        "df['original_text'] = df['original_text'].apply(remove_whitespace)\n",
        "df['original_text'] = df['original_text'].apply(remove_non_alphabet)\n",
        "df['original_text'] = df['original_text'].apply(remove_repeating_characters)\n",
        "df['original_text'] = df['original_text'].apply(tokenizing)\n",
        "hasil_steem = stem_all_tokens(df)\n",
        "hasil_steem"
      ],
      "metadata": {
        "colab": {
          "base_uri": "https://localhost:8080/",
          "height": 112
        },
        "id": "4pTmjdeCfuK9",
        "outputId": "b92ef331-9d6e-46b1-e5c9-728d9e2700fa"
      },
      "execution_count": 48,
      "outputs": [
        {
          "output_type": "execute_result",
          "data": {
            "text/plain": [
              "                                       original_text\n",
              "0  saya kira umat islam yang masih mahu kepada kh...\n",
              "1  oposisi bahkan salah perintah karena minta sah..."
            ],
            "text/html": [
              "\n",
              "  <div id=\"df-c4c29308-18be-4c1a-a761-1cbabb6bb9e7\" class=\"colab-df-container\">\n",
              "    <div>\n",
              "<style scoped>\n",
              "    .dataframe tbody tr th:only-of-type {\n",
              "        vertical-align: middle;\n",
              "    }\n",
              "\n",
              "    .dataframe tbody tr th {\n",
              "        vertical-align: top;\n",
              "    }\n",
              "\n",
              "    .dataframe thead th {\n",
              "        text-align: right;\n",
              "    }\n",
              "</style>\n",
              "<table border=\"1\" class=\"dataframe\">\n",
              "  <thead>\n",
              "    <tr style=\"text-align: right;\">\n",
              "      <th></th>\n",
              "      <th>original_text</th>\n",
              "    </tr>\n",
              "  </thead>\n",
              "  <tbody>\n",
              "    <tr>\n",
              "      <th>0</th>\n",
              "      <td>saya kira umat islam yang masih mahu kepada kh...</td>\n",
              "    </tr>\n",
              "    <tr>\n",
              "      <th>1</th>\n",
              "      <td>oposisi bahkan salah perintah karena minta sah...</td>\n",
              "    </tr>\n",
              "  </tbody>\n",
              "</table>\n",
              "</div>\n",
              "    <div class=\"colab-df-buttons\">\n",
              "\n",
              "  <div class=\"colab-df-container\">\n",
              "    <button class=\"colab-df-convert\" onclick=\"convertToInteractive('df-c4c29308-18be-4c1a-a761-1cbabb6bb9e7')\"\n",
              "            title=\"Convert this dataframe to an interactive table.\"\n",
              "            style=\"display:none;\">\n",
              "\n",
              "  <svg xmlns=\"http://www.w3.org/2000/svg\" height=\"24px\" viewBox=\"0 -960 960 960\">\n",
              "    <path d=\"M120-120v-720h720v720H120Zm60-500h600v-160H180v160Zm220 220h160v-160H400v160Zm0 220h160v-160H400v160ZM180-400h160v-160H180v160Zm440 0h160v-160H620v160ZM180-180h160v-160H180v160Zm440 0h160v-160H620v160Z\"/>\n",
              "  </svg>\n",
              "    </button>\n",
              "\n",
              "  <style>\n",
              "    .colab-df-container {\n",
              "      display:flex;\n",
              "      gap: 12px;\n",
              "    }\n",
              "\n",
              "    .colab-df-convert {\n",
              "      background-color: #E8F0FE;\n",
              "      border: none;\n",
              "      border-radius: 50%;\n",
              "      cursor: pointer;\n",
              "      display: none;\n",
              "      fill: #1967D2;\n",
              "      height: 32px;\n",
              "      padding: 0 0 0 0;\n",
              "      width: 32px;\n",
              "    }\n",
              "\n",
              "    .colab-df-convert:hover {\n",
              "      background-color: #E2EBFA;\n",
              "      box-shadow: 0px 1px 2px rgba(60, 64, 67, 0.3), 0px 1px 3px 1px rgba(60, 64, 67, 0.15);\n",
              "      fill: #174EA6;\n",
              "    }\n",
              "\n",
              "    .colab-df-buttons div {\n",
              "      margin-bottom: 4px;\n",
              "    }\n",
              "\n",
              "    [theme=dark] .colab-df-convert {\n",
              "      background-color: #3B4455;\n",
              "      fill: #D2E3FC;\n",
              "    }\n",
              "\n",
              "    [theme=dark] .colab-df-convert:hover {\n",
              "      background-color: #434B5C;\n",
              "      box-shadow: 0px 1px 3px 1px rgba(0, 0, 0, 0.15);\n",
              "      filter: drop-shadow(0px 1px 2px rgba(0, 0, 0, 0.3));\n",
              "      fill: #FFFFFF;\n",
              "    }\n",
              "  </style>\n",
              "\n",
              "    <script>\n",
              "      const buttonEl =\n",
              "        document.querySelector('#df-c4c29308-18be-4c1a-a761-1cbabb6bb9e7 button.colab-df-convert');\n",
              "      buttonEl.style.display =\n",
              "        google.colab.kernel.accessAllowed ? 'block' : 'none';\n",
              "\n",
              "      async function convertToInteractive(key) {\n",
              "        const element = document.querySelector('#df-c4c29308-18be-4c1a-a761-1cbabb6bb9e7');\n",
              "        const dataTable =\n",
              "          await google.colab.kernel.invokeFunction('convertToInteractive',\n",
              "                                                    [key], {});\n",
              "        if (!dataTable) return;\n",
              "\n",
              "        const docLinkHtml = 'Like what you see? Visit the ' +\n",
              "          '<a target=\"_blank\" href=https://colab.research.google.com/notebooks/data_table.ipynb>data table notebook</a>'\n",
              "          + ' to learn more about interactive tables.';\n",
              "        element.innerHTML = '';\n",
              "        dataTable['output_type'] = 'display_data';\n",
              "        await google.colab.output.renderOutput(dataTable, element);\n",
              "        const docLink = document.createElement('div');\n",
              "        docLink.innerHTML = docLinkHtml;\n",
              "        element.appendChild(docLink);\n",
              "      }\n",
              "    </script>\n",
              "  </div>\n",
              "\n",
              "\n",
              "<div id=\"df-a034bff0-2c47-4f74-8728-faceca2f9422\">\n",
              "  <button class=\"colab-df-quickchart\" onclick=\"quickchart('df-a034bff0-2c47-4f74-8728-faceca2f9422')\"\n",
              "            title=\"Suggest charts.\"\n",
              "            style=\"display:none;\">\n",
              "\n",
              "<svg xmlns=\"http://www.w3.org/2000/svg\" height=\"24px\"viewBox=\"0 0 24 24\"\n",
              "     width=\"24px\">\n",
              "    <g>\n",
              "        <path d=\"M19 3H5c-1.1 0-2 .9-2 2v14c0 1.1.9 2 2 2h14c1.1 0 2-.9 2-2V5c0-1.1-.9-2-2-2zM9 17H7v-7h2v7zm4 0h-2V7h2v10zm4 0h-2v-4h2v4z\"/>\n",
              "    </g>\n",
              "</svg>\n",
              "  </button>\n",
              "\n",
              "<style>\n",
              "  .colab-df-quickchart {\n",
              "      --bg-color: #E8F0FE;\n",
              "      --fill-color: #1967D2;\n",
              "      --hover-bg-color: #E2EBFA;\n",
              "      --hover-fill-color: #174EA6;\n",
              "      --disabled-fill-color: #AAA;\n",
              "      --disabled-bg-color: #DDD;\n",
              "  }\n",
              "\n",
              "  [theme=dark] .colab-df-quickchart {\n",
              "      --bg-color: #3B4455;\n",
              "      --fill-color: #D2E3FC;\n",
              "      --hover-bg-color: #434B5C;\n",
              "      --hover-fill-color: #FFFFFF;\n",
              "      --disabled-bg-color: #3B4455;\n",
              "      --disabled-fill-color: #666;\n",
              "  }\n",
              "\n",
              "  .colab-df-quickchart {\n",
              "    background-color: var(--bg-color);\n",
              "    border: none;\n",
              "    border-radius: 50%;\n",
              "    cursor: pointer;\n",
              "    display: none;\n",
              "    fill: var(--fill-color);\n",
              "    height: 32px;\n",
              "    padding: 0;\n",
              "    width: 32px;\n",
              "  }\n",
              "\n",
              "  .colab-df-quickchart:hover {\n",
              "    background-color: var(--hover-bg-color);\n",
              "    box-shadow: 0 1px 2px rgba(60, 64, 67, 0.3), 0 1px 3px 1px rgba(60, 64, 67, 0.15);\n",
              "    fill: var(--button-hover-fill-color);\n",
              "  }\n",
              "\n",
              "  .colab-df-quickchart-complete:disabled,\n",
              "  .colab-df-quickchart-complete:disabled:hover {\n",
              "    background-color: var(--disabled-bg-color);\n",
              "    fill: var(--disabled-fill-color);\n",
              "    box-shadow: none;\n",
              "  }\n",
              "\n",
              "  .colab-df-spinner {\n",
              "    border: 2px solid var(--fill-color);\n",
              "    border-color: transparent;\n",
              "    border-bottom-color: var(--fill-color);\n",
              "    animation:\n",
              "      spin 1s steps(1) infinite;\n",
              "  }\n",
              "\n",
              "  @keyframes spin {\n",
              "    0% {\n",
              "      border-color: transparent;\n",
              "      border-bottom-color: var(--fill-color);\n",
              "      border-left-color: var(--fill-color);\n",
              "    }\n",
              "    20% {\n",
              "      border-color: transparent;\n",
              "      border-left-color: var(--fill-color);\n",
              "      border-top-color: var(--fill-color);\n",
              "    }\n",
              "    30% {\n",
              "      border-color: transparent;\n",
              "      border-left-color: var(--fill-color);\n",
              "      border-top-color: var(--fill-color);\n",
              "      border-right-color: var(--fill-color);\n",
              "    }\n",
              "    40% {\n",
              "      border-color: transparent;\n",
              "      border-right-color: var(--fill-color);\n",
              "      border-top-color: var(--fill-color);\n",
              "    }\n",
              "    60% {\n",
              "      border-color: transparent;\n",
              "      border-right-color: var(--fill-color);\n",
              "    }\n",
              "    80% {\n",
              "      border-color: transparent;\n",
              "      border-right-color: var(--fill-color);\n",
              "      border-bottom-color: var(--fill-color);\n",
              "    }\n",
              "    90% {\n",
              "      border-color: transparent;\n",
              "      border-bottom-color: var(--fill-color);\n",
              "    }\n",
              "  }\n",
              "</style>\n",
              "\n",
              "  <script>\n",
              "    async function quickchart(key) {\n",
              "      const quickchartButtonEl =\n",
              "        document.querySelector('#' + key + ' button');\n",
              "      quickchartButtonEl.disabled = true;  // To prevent multiple clicks.\n",
              "      quickchartButtonEl.classList.add('colab-df-spinner');\n",
              "      try {\n",
              "        const charts = await google.colab.kernel.invokeFunction(\n",
              "            'suggestCharts', [key], {});\n",
              "      } catch (error) {\n",
              "        console.error('Error during call to suggestCharts:', error);\n",
              "      }\n",
              "      quickchartButtonEl.classList.remove('colab-df-spinner');\n",
              "      quickchartButtonEl.classList.add('colab-df-quickchart-complete');\n",
              "    }\n",
              "    (() => {\n",
              "      let quickchartButtonEl =\n",
              "        document.querySelector('#df-a034bff0-2c47-4f74-8728-faceca2f9422 button');\n",
              "      quickchartButtonEl.style.display =\n",
              "        google.colab.kernel.accessAllowed ? 'block' : 'none';\n",
              "    })();\n",
              "  </script>\n",
              "</div>\n",
              "    </div>\n",
              "  </div>\n"
            ]
          },
          "metadata": {},
          "execution_count": 48
        }
      ]
    },
    {
      "cell_type": "code",
      "source": [
        "df['tfidf'] = df['original_text'].apply(lambda x: calculate_tfidf(x, idf))\n",
        "df[['original_text', 'tfidf']]"
      ],
      "metadata": {
        "colab": {
          "base_uri": "https://localhost:8080/",
          "height": 112
        },
        "id": "cDJypjrAf4fC",
        "outputId": "2fd765db-72d9-4bff-c6fa-eaafec45d96f"
      },
      "execution_count": 49,
      "outputs": [
        {
          "output_type": "execute_result",
          "data": {
            "text/plain": [
              "                                       original_text  \\\n",
              "0  saya kira umat islam yang masih mahu kepada kh...   \n",
              "1  oposisi bahkan salah perintah karena minta sah...   \n",
              "\n",
              "                                               tfidf  \n",
              "0  [0.09768823014549702, 0.19695998846230528, 0.1...  \n",
              "1  [0.8742416219028987, 0.36940966485770965, 0.38...  "
            ],
            "text/html": [
              "\n",
              "  <div id=\"df-e2828549-3d4b-4117-a07d-0b7b6007dd23\" class=\"colab-df-container\">\n",
              "    <div>\n",
              "<style scoped>\n",
              "    .dataframe tbody tr th:only-of-type {\n",
              "        vertical-align: middle;\n",
              "    }\n",
              "\n",
              "    .dataframe tbody tr th {\n",
              "        vertical-align: top;\n",
              "    }\n",
              "\n",
              "    .dataframe thead th {\n",
              "        text-align: right;\n",
              "    }\n",
              "</style>\n",
              "<table border=\"1\" class=\"dataframe\">\n",
              "  <thead>\n",
              "    <tr style=\"text-align: right;\">\n",
              "      <th></th>\n",
              "      <th>original_text</th>\n",
              "      <th>tfidf</th>\n",
              "    </tr>\n",
              "  </thead>\n",
              "  <tbody>\n",
              "    <tr>\n",
              "      <th>0</th>\n",
              "      <td>saya kira umat islam yang masih mahu kepada kh...</td>\n",
              "      <td>[0.09768823014549702, 0.19695998846230528, 0.1...</td>\n",
              "    </tr>\n",
              "    <tr>\n",
              "      <th>1</th>\n",
              "      <td>oposisi bahkan salah perintah karena minta sah...</td>\n",
              "      <td>[0.8742416219028987, 0.36940966485770965, 0.38...</td>\n",
              "    </tr>\n",
              "  </tbody>\n",
              "</table>\n",
              "</div>\n",
              "    <div class=\"colab-df-buttons\">\n",
              "\n",
              "  <div class=\"colab-df-container\">\n",
              "    <button class=\"colab-df-convert\" onclick=\"convertToInteractive('df-e2828549-3d4b-4117-a07d-0b7b6007dd23')\"\n",
              "            title=\"Convert this dataframe to an interactive table.\"\n",
              "            style=\"display:none;\">\n",
              "\n",
              "  <svg xmlns=\"http://www.w3.org/2000/svg\" height=\"24px\" viewBox=\"0 -960 960 960\">\n",
              "    <path d=\"M120-120v-720h720v720H120Zm60-500h600v-160H180v160Zm220 220h160v-160H400v160Zm0 220h160v-160H400v160ZM180-400h160v-160H180v160Zm440 0h160v-160H620v160ZM180-180h160v-160H180v160Zm440 0h160v-160H620v160Z\"/>\n",
              "  </svg>\n",
              "    </button>\n",
              "\n",
              "  <style>\n",
              "    .colab-df-container {\n",
              "      display:flex;\n",
              "      gap: 12px;\n",
              "    }\n",
              "\n",
              "    .colab-df-convert {\n",
              "      background-color: #E8F0FE;\n",
              "      border: none;\n",
              "      border-radius: 50%;\n",
              "      cursor: pointer;\n",
              "      display: none;\n",
              "      fill: #1967D2;\n",
              "      height: 32px;\n",
              "      padding: 0 0 0 0;\n",
              "      width: 32px;\n",
              "    }\n",
              "\n",
              "    .colab-df-convert:hover {\n",
              "      background-color: #E2EBFA;\n",
              "      box-shadow: 0px 1px 2px rgba(60, 64, 67, 0.3), 0px 1px 3px 1px rgba(60, 64, 67, 0.15);\n",
              "      fill: #174EA6;\n",
              "    }\n",
              "\n",
              "    .colab-df-buttons div {\n",
              "      margin-bottom: 4px;\n",
              "    }\n",
              "\n",
              "    [theme=dark] .colab-df-convert {\n",
              "      background-color: #3B4455;\n",
              "      fill: #D2E3FC;\n",
              "    }\n",
              "\n",
              "    [theme=dark] .colab-df-convert:hover {\n",
              "      background-color: #434B5C;\n",
              "      box-shadow: 0px 1px 3px 1px rgba(0, 0, 0, 0.15);\n",
              "      filter: drop-shadow(0px 1px 2px rgba(0, 0, 0, 0.3));\n",
              "      fill: #FFFFFF;\n",
              "    }\n",
              "  </style>\n",
              "\n",
              "    <script>\n",
              "      const buttonEl =\n",
              "        document.querySelector('#df-e2828549-3d4b-4117-a07d-0b7b6007dd23 button.colab-df-convert');\n",
              "      buttonEl.style.display =\n",
              "        google.colab.kernel.accessAllowed ? 'block' : 'none';\n",
              "\n",
              "      async function convertToInteractive(key) {\n",
              "        const element = document.querySelector('#df-e2828549-3d4b-4117-a07d-0b7b6007dd23');\n",
              "        const dataTable =\n",
              "          await google.colab.kernel.invokeFunction('convertToInteractive',\n",
              "                                                    [key], {});\n",
              "        if (!dataTable) return;\n",
              "\n",
              "        const docLinkHtml = 'Like what you see? Visit the ' +\n",
              "          '<a target=\"_blank\" href=https://colab.research.google.com/notebooks/data_table.ipynb>data table notebook</a>'\n",
              "          + ' to learn more about interactive tables.';\n",
              "        element.innerHTML = '';\n",
              "        dataTable['output_type'] = 'display_data';\n",
              "        await google.colab.output.renderOutput(dataTable, element);\n",
              "        const docLink = document.createElement('div');\n",
              "        docLink.innerHTML = docLinkHtml;\n",
              "        element.appendChild(docLink);\n",
              "      }\n",
              "    </script>\n",
              "  </div>\n",
              "\n",
              "\n",
              "<div id=\"df-7d970a8e-b99d-42ba-a4e2-3e1052aece48\">\n",
              "  <button class=\"colab-df-quickchart\" onclick=\"quickchart('df-7d970a8e-b99d-42ba-a4e2-3e1052aece48')\"\n",
              "            title=\"Suggest charts.\"\n",
              "            style=\"display:none;\">\n",
              "\n",
              "<svg xmlns=\"http://www.w3.org/2000/svg\" height=\"24px\"viewBox=\"0 0 24 24\"\n",
              "     width=\"24px\">\n",
              "    <g>\n",
              "        <path d=\"M19 3H5c-1.1 0-2 .9-2 2v14c0 1.1.9 2 2 2h14c1.1 0 2-.9 2-2V5c0-1.1-.9-2-2-2zM9 17H7v-7h2v7zm4 0h-2V7h2v10zm4 0h-2v-4h2v4z\"/>\n",
              "    </g>\n",
              "</svg>\n",
              "  </button>\n",
              "\n",
              "<style>\n",
              "  .colab-df-quickchart {\n",
              "      --bg-color: #E8F0FE;\n",
              "      --fill-color: #1967D2;\n",
              "      --hover-bg-color: #E2EBFA;\n",
              "      --hover-fill-color: #174EA6;\n",
              "      --disabled-fill-color: #AAA;\n",
              "      --disabled-bg-color: #DDD;\n",
              "  }\n",
              "\n",
              "  [theme=dark] .colab-df-quickchart {\n",
              "      --bg-color: #3B4455;\n",
              "      --fill-color: #D2E3FC;\n",
              "      --hover-bg-color: #434B5C;\n",
              "      --hover-fill-color: #FFFFFF;\n",
              "      --disabled-bg-color: #3B4455;\n",
              "      --disabled-fill-color: #666;\n",
              "  }\n",
              "\n",
              "  .colab-df-quickchart {\n",
              "    background-color: var(--bg-color);\n",
              "    border: none;\n",
              "    border-radius: 50%;\n",
              "    cursor: pointer;\n",
              "    display: none;\n",
              "    fill: var(--fill-color);\n",
              "    height: 32px;\n",
              "    padding: 0;\n",
              "    width: 32px;\n",
              "  }\n",
              "\n",
              "  .colab-df-quickchart:hover {\n",
              "    background-color: var(--hover-bg-color);\n",
              "    box-shadow: 0 1px 2px rgba(60, 64, 67, 0.3), 0 1px 3px 1px rgba(60, 64, 67, 0.15);\n",
              "    fill: var(--button-hover-fill-color);\n",
              "  }\n",
              "\n",
              "  .colab-df-quickchart-complete:disabled,\n",
              "  .colab-df-quickchart-complete:disabled:hover {\n",
              "    background-color: var(--disabled-bg-color);\n",
              "    fill: var(--disabled-fill-color);\n",
              "    box-shadow: none;\n",
              "  }\n",
              "\n",
              "  .colab-df-spinner {\n",
              "    border: 2px solid var(--fill-color);\n",
              "    border-color: transparent;\n",
              "    border-bottom-color: var(--fill-color);\n",
              "    animation:\n",
              "      spin 1s steps(1) infinite;\n",
              "  }\n",
              "\n",
              "  @keyframes spin {\n",
              "    0% {\n",
              "      border-color: transparent;\n",
              "      border-bottom-color: var(--fill-color);\n",
              "      border-left-color: var(--fill-color);\n",
              "    }\n",
              "    20% {\n",
              "      border-color: transparent;\n",
              "      border-left-color: var(--fill-color);\n",
              "      border-top-color: var(--fill-color);\n",
              "    }\n",
              "    30% {\n",
              "      border-color: transparent;\n",
              "      border-left-color: var(--fill-color);\n",
              "      border-top-color: var(--fill-color);\n",
              "      border-right-color: var(--fill-color);\n",
              "    }\n",
              "    40% {\n",
              "      border-color: transparent;\n",
              "      border-right-color: var(--fill-color);\n",
              "      border-top-color: var(--fill-color);\n",
              "    }\n",
              "    60% {\n",
              "      border-color: transparent;\n",
              "      border-right-color: var(--fill-color);\n",
              "    }\n",
              "    80% {\n",
              "      border-color: transparent;\n",
              "      border-right-color: var(--fill-color);\n",
              "      border-bottom-color: var(--fill-color);\n",
              "    }\n",
              "    90% {\n",
              "      border-color: transparent;\n",
              "      border-bottom-color: var(--fill-color);\n",
              "    }\n",
              "  }\n",
              "</style>\n",
              "\n",
              "  <script>\n",
              "    async function quickchart(key) {\n",
              "      const quickchartButtonEl =\n",
              "        document.querySelector('#' + key + ' button');\n",
              "      quickchartButtonEl.disabled = true;  // To prevent multiple clicks.\n",
              "      quickchartButtonEl.classList.add('colab-df-spinner');\n",
              "      try {\n",
              "        const charts = await google.colab.kernel.invokeFunction(\n",
              "            'suggestCharts', [key], {});\n",
              "      } catch (error) {\n",
              "        console.error('Error during call to suggestCharts:', error);\n",
              "      }\n",
              "      quickchartButtonEl.classList.remove('colab-df-spinner');\n",
              "      quickchartButtonEl.classList.add('colab-df-quickchart-complete');\n",
              "    }\n",
              "    (() => {\n",
              "      let quickchartButtonEl =\n",
              "        document.querySelector('#df-7d970a8e-b99d-42ba-a4e2-3e1052aece48 button');\n",
              "      quickchartButtonEl.style.display =\n",
              "        google.colab.kernel.accessAllowed ? 'block' : 'none';\n",
              "    })();\n",
              "  </script>\n",
              "</div>\n",
              "    </div>\n",
              "  </div>\n"
            ]
          },
          "metadata": {},
          "execution_count": 49
        }
      ]
    },
    {
      "cell_type": "code",
      "source": [
        "max_features = 5000\n",
        "X_test = np.zeros((len(df['tfidf']), max_features))\n",
        "for i, tfidf_list in enumerate(df['tfidf']):\n",
        "    X_test[i, :len(tfidf_list)] = tfidf_list[:max_features]"
      ],
      "metadata": {
        "id": "mDxNITNmf9pz"
      },
      "execution_count": 50,
      "outputs": []
    },
    {
      "cell_type": "code",
      "source": [
        "pred_text = model.predict(X_test)\n",
        "threshold = 0.5\n",
        "pred_text = [\"Ya, ini pencemaran nama baik!!\" if score > threshold else \"Bukan, ini tidak termasuk dalam pencemaran nama baik :)\" for score in pred_text]\n",
        "print(pred_text)"
      ],
      "metadata": {
        "colab": {
          "base_uri": "https://localhost:8080/"
        },
        "id": "xlRL6RoFgE79",
        "outputId": "11b86f8d-66cc-415f-8ebb-fdf607961806"
      },
      "execution_count": 51,
      "outputs": [
        {
          "output_type": "stream",
          "name": "stdout",
          "text": [
            "['Ya, ini pencemaran nama baik!!', 'Ya, ini pencemaran nama baik!!']\n"
          ]
        }
      ]
    }
  ]
}